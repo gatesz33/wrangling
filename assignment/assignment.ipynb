{
 "cells": [
  {
   "cell_type": "markdown",
   "id": "13ad028b-72b7-43ed-aa78-96fd4e518040",
   "metadata": {
    "id": "13ad028b-72b7-43ed-aa78-96fd4e518040"
   },
   "source": [
    "# Assignment: Data Wrangling\n",
    "### `! git clone https://github.com/ds4e/wrangling`\n",
    "### Do Q1 and Q2, and either Q3 or Q4, for a total of 3 questions."
   ]
  },
  {
   "cell_type": "markdown",
   "id": "50443963-3e7e-469e-953a-359b39e343d1",
   "metadata": {},
   "source": [
    "Zoe Gates (gzp2eu)"
   ]
  },
  {
   "cell_type": "markdown",
   "id": "da879ea7-8aac-48a3-b6c2-daea56d2e072",
   "metadata": {
    "id": "da879ea7-8aac-48a3-b6c2-daea56d2e072"
   },
   "source": [
    "**Q1.** This question provides some practice cleaning variables which have common problems.\n",
    "1. Numeric variable: For `./data/airbnb_hw.csv`, clean the `Price` variable as well as you can, and explain the choices you make. How many missing values do you end up with? (Hint: What happens to the formatting when a price goes over 999 dollars, say from 675 to 1,112?)\n",
    "2. Categorical variable: For the Minnesota police use of for data, `./data/mn_police_use_of_force.csv`, clean the `subject_injury` variable, handling the NA's; this gives a value `Yes` when a person was injured by police, and `No` when no injury occurred. What proportion of the values are missing? Is this a concern? Cross-tabulate your cleaned `subject_injury` variable with the `force_type` variable. Are there any patterns regarding when the data are missing? \n",
    "3. Dummy variable: For the pretrial data covered in the lecture, clean the `WhetherDefendantWasReleasedPretrial` variable as well as you can, and, in particular, replace missing values with `np.nan`.\n",
    "4. Missing values, not at random: For the pretrial data covered in the lecture, clean the `ImposedSentenceAllChargeInContactEvent` variable as well as you can, and explain the choices you make. (Hint: Look at the `SentenceTypeAllChargesAtConvictionInContactEvent` variable.)"
   ]
  },
  {
   "cell_type": "code",
   "execution_count": 3,
   "id": "646052c3-5dbc-439a-94bb-f20e6ceaed8d",
   "metadata": {},
   "outputs": [],
   "source": [
    "import numpy as np # Import the numpy package into your workspace\n",
    "import matplotlib.pyplot as plt # Import matplotlib into your workspace\n",
    "import pandas as pd  # Import the pandas package into your workspace"
   ]
  },
  {
   "cell_type": "code",
   "execution_count": 4,
   "id": "881319bf-4f8b-44e5-b60f-e5f8927bd07d",
   "metadata": {},
   "outputs": [
    {
     "data": {
      "text/html": [
       "<div>\n",
       "<style scoped>\n",
       "    .dataframe tbody tr th:only-of-type {\n",
       "        vertical-align: middle;\n",
       "    }\n",
       "\n",
       "    .dataframe tbody tr th {\n",
       "        vertical-align: top;\n",
       "    }\n",
       "\n",
       "    .dataframe thead th {\n",
       "        text-align: right;\n",
       "    }\n",
       "</style>\n",
       "<table border=\"1\" class=\"dataframe\">\n",
       "  <thead>\n",
       "    <tr style=\"text-align: right;\">\n",
       "      <th></th>\n",
       "      <th>Host Id</th>\n",
       "      <th>Host Since</th>\n",
       "      <th>Name</th>\n",
       "      <th>Neighbourhood</th>\n",
       "      <th>Property Type</th>\n",
       "      <th>Review Scores Rating (bin)</th>\n",
       "      <th>Room Type</th>\n",
       "      <th>Zipcode</th>\n",
       "      <th>Beds</th>\n",
       "      <th>Number of Records</th>\n",
       "      <th>Number Of Reviews</th>\n",
       "      <th>Price</th>\n",
       "      <th>Review Scores Rating</th>\n",
       "    </tr>\n",
       "  </thead>\n",
       "  <tbody>\n",
       "    <tr>\n",
       "      <th>0</th>\n",
       "      <td>5162530</td>\n",
       "      <td>NaN</td>\n",
       "      <td>1 Bedroom in Prime Williamsburg</td>\n",
       "      <td>Brooklyn</td>\n",
       "      <td>Apartment</td>\n",
       "      <td>NaN</td>\n",
       "      <td>Entire home/apt</td>\n",
       "      <td>11249.0</td>\n",
       "      <td>1.0</td>\n",
       "      <td>1</td>\n",
       "      <td>0</td>\n",
       "      <td>145</td>\n",
       "      <td>NaN</td>\n",
       "    </tr>\n",
       "    <tr>\n",
       "      <th>1</th>\n",
       "      <td>33134899</td>\n",
       "      <td>NaN</td>\n",
       "      <td>Sunny, Private room in Bushwick</td>\n",
       "      <td>Brooklyn</td>\n",
       "      <td>Apartment</td>\n",
       "      <td>NaN</td>\n",
       "      <td>Private room</td>\n",
       "      <td>11206.0</td>\n",
       "      <td>1.0</td>\n",
       "      <td>1</td>\n",
       "      <td>1</td>\n",
       "      <td>37</td>\n",
       "      <td>NaN</td>\n",
       "    </tr>\n",
       "    <tr>\n",
       "      <th>2</th>\n",
       "      <td>39608626</td>\n",
       "      <td>NaN</td>\n",
       "      <td>Sunny Room in Harlem</td>\n",
       "      <td>Manhattan</td>\n",
       "      <td>Apartment</td>\n",
       "      <td>NaN</td>\n",
       "      <td>Private room</td>\n",
       "      <td>10032.0</td>\n",
       "      <td>1.0</td>\n",
       "      <td>1</td>\n",
       "      <td>1</td>\n",
       "      <td>28</td>\n",
       "      <td>NaN</td>\n",
       "    </tr>\n",
       "    <tr>\n",
       "      <th>3</th>\n",
       "      <td>500</td>\n",
       "      <td>6/26/2008</td>\n",
       "      <td>Gorgeous 1 BR with Private Balcony</td>\n",
       "      <td>Manhattan</td>\n",
       "      <td>Apartment</td>\n",
       "      <td>NaN</td>\n",
       "      <td>Entire home/apt</td>\n",
       "      <td>10024.0</td>\n",
       "      <td>3.0</td>\n",
       "      <td>1</td>\n",
       "      <td>0</td>\n",
       "      <td>199</td>\n",
       "      <td>NaN</td>\n",
       "    </tr>\n",
       "    <tr>\n",
       "      <th>4</th>\n",
       "      <td>500</td>\n",
       "      <td>6/26/2008</td>\n",
       "      <td>Trendy Times Square Loft</td>\n",
       "      <td>Manhattan</td>\n",
       "      <td>Apartment</td>\n",
       "      <td>95.0</td>\n",
       "      <td>Private room</td>\n",
       "      <td>10036.0</td>\n",
       "      <td>3.0</td>\n",
       "      <td>1</td>\n",
       "      <td>39</td>\n",
       "      <td>549</td>\n",
       "      <td>96.0</td>\n",
       "    </tr>\n",
       "    <tr>\n",
       "      <th>5</th>\n",
       "      <td>1039</td>\n",
       "      <td>7/25/2008</td>\n",
       "      <td>Big Greenpoint 1BD w/ Skyline View</td>\n",
       "      <td>Brooklyn</td>\n",
       "      <td>Apartment</td>\n",
       "      <td>100.0</td>\n",
       "      <td>Entire home/apt</td>\n",
       "      <td>11222.0</td>\n",
       "      <td>1.0</td>\n",
       "      <td>1</td>\n",
       "      <td>4</td>\n",
       "      <td>149</td>\n",
       "      <td>100.0</td>\n",
       "    </tr>\n",
       "    <tr>\n",
       "      <th>6</th>\n",
       "      <td>1783</td>\n",
       "      <td>8/12/2008</td>\n",
       "      <td>Amazing Also</td>\n",
       "      <td>Manhattan</td>\n",
       "      <td>Apartment</td>\n",
       "      <td>100.0</td>\n",
       "      <td>Entire home/apt</td>\n",
       "      <td>10004.0</td>\n",
       "      <td>1.0</td>\n",
       "      <td>1</td>\n",
       "      <td>9</td>\n",
       "      <td>250</td>\n",
       "      <td>100.0</td>\n",
       "    </tr>\n",
       "    <tr>\n",
       "      <th>7</th>\n",
       "      <td>2078</td>\n",
       "      <td>8/15/2008</td>\n",
       "      <td>Colorful, quiet, &amp; near the subway!</td>\n",
       "      <td>Brooklyn</td>\n",
       "      <td>Apartment</td>\n",
       "      <td>90.0</td>\n",
       "      <td>Private room</td>\n",
       "      <td>11201.0</td>\n",
       "      <td>1.0</td>\n",
       "      <td>1</td>\n",
       "      <td>80</td>\n",
       "      <td>90</td>\n",
       "      <td>94.0</td>\n",
       "    </tr>\n",
       "    <tr>\n",
       "      <th>8</th>\n",
       "      <td>2339</td>\n",
       "      <td>8/20/2008</td>\n",
       "      <td>East Village Cocoon: 2 Bedroom Flat</td>\n",
       "      <td>Manhattan</td>\n",
       "      <td>Apartment</td>\n",
       "      <td>90.0</td>\n",
       "      <td>Entire home/apt</td>\n",
       "      <td>10009.0</td>\n",
       "      <td>2.0</td>\n",
       "      <td>1</td>\n",
       "      <td>95</td>\n",
       "      <td>270</td>\n",
       "      <td>90.0</td>\n",
       "    </tr>\n",
       "    <tr>\n",
       "      <th>9</th>\n",
       "      <td>2339</td>\n",
       "      <td>8/20/2008</td>\n",
       "      <td>Lovely 2 Bedroom East Village Nest</td>\n",
       "      <td>Manhattan</td>\n",
       "      <td>Apartment</td>\n",
       "      <td>95.0</td>\n",
       "      <td>Entire home/apt</td>\n",
       "      <td>10009.0</td>\n",
       "      <td>2.0</td>\n",
       "      <td>1</td>\n",
       "      <td>23</td>\n",
       "      <td>290</td>\n",
       "      <td>96.0</td>\n",
       "    </tr>\n",
       "    <tr>\n",
       "      <th>10</th>\n",
       "      <td>2571</td>\n",
       "      <td>8/27/2008</td>\n",
       "      <td>THE PUTNAM</td>\n",
       "      <td>Brooklyn</td>\n",
       "      <td>Apartment</td>\n",
       "      <td>95.0</td>\n",
       "      <td>Entire home/apt</td>\n",
       "      <td>11221.0</td>\n",
       "      <td>2.0</td>\n",
       "      <td>1</td>\n",
       "      <td>14</td>\n",
       "      <td>170</td>\n",
       "      <td>98.0</td>\n",
       "    </tr>\n",
       "    <tr>\n",
       "      <th>11</th>\n",
       "      <td>2758</td>\n",
       "      <td>9/6/2008</td>\n",
       "      <td>Stay at Chez Chic budget room #1</td>\n",
       "      <td>Manhattan</td>\n",
       "      <td>Apartment</td>\n",
       "      <td>90.0</td>\n",
       "      <td>Private room</td>\n",
       "      <td>10026.0</td>\n",
       "      <td>2.0</td>\n",
       "      <td>1</td>\n",
       "      <td>120</td>\n",
       "      <td>59</td>\n",
       "      <td>93.0</td>\n",
       "    </tr>\n",
       "    <tr>\n",
       "      <th>12</th>\n",
       "      <td>2758</td>\n",
       "      <td>9/6/2008</td>\n",
       "      <td>Stay at Chez Chic budget Room #2</td>\n",
       "      <td>Manhattan</td>\n",
       "      <td>Apartment</td>\n",
       "      <td>90.0</td>\n",
       "      <td>Private room</td>\n",
       "      <td>10026.0</td>\n",
       "      <td>2.0</td>\n",
       "      <td>1</td>\n",
       "      <td>81</td>\n",
       "      <td>49</td>\n",
       "      <td>91.0</td>\n",
       "    </tr>\n",
       "    <tr>\n",
       "      <th>13</th>\n",
       "      <td>2787</td>\n",
       "      <td>9/7/2008</td>\n",
       "      <td>Renovated and spacious townhome</td>\n",
       "      <td>Brooklyn</td>\n",
       "      <td>House</td>\n",
       "      <td>NaN</td>\n",
       "      <td>Private room</td>\n",
       "      <td>11223.0</td>\n",
       "      <td>1.0</td>\n",
       "      <td>1</td>\n",
       "      <td>0</td>\n",
       "      <td>68</td>\n",
       "      <td>NaN</td>\n",
       "    </tr>\n",
       "    <tr>\n",
       "      <th>14</th>\n",
       "      <td>2845</td>\n",
       "      <td>9/9/2008</td>\n",
       "      <td>Midtown Castle</td>\n",
       "      <td>Manhattan</td>\n",
       "      <td>Apartment</td>\n",
       "      <td>95.0</td>\n",
       "      <td>Entire home/apt</td>\n",
       "      <td>10018.0</td>\n",
       "      <td>1.0</td>\n",
       "      <td>1</td>\n",
       "      <td>17</td>\n",
       "      <td>285</td>\n",
       "      <td>97.0</td>\n",
       "    </tr>\n",
       "    <tr>\n",
       "      <th>15</th>\n",
       "      <td>2881</td>\n",
       "      <td>9/10/2008</td>\n",
       "      <td>Newly renovated historic brownstone</td>\n",
       "      <td>Brooklyn</td>\n",
       "      <td>Apartment</td>\n",
       "      <td>95.0</td>\n",
       "      <td>Private room</td>\n",
       "      <td>11216.0</td>\n",
       "      <td>1.0</td>\n",
       "      <td>1</td>\n",
       "      <td>32</td>\n",
       "      <td>75</td>\n",
       "      <td>95.0</td>\n",
       "    </tr>\n",
       "    <tr>\n",
       "      <th>16</th>\n",
       "      <td>2965</td>\n",
       "      <td>9/14/2008</td>\n",
       "      <td>Large Bedroom in 3-bedroom Apt.</td>\n",
       "      <td>Manhattan</td>\n",
       "      <td>Apartment</td>\n",
       "      <td>95.0</td>\n",
       "      <td>Private room</td>\n",
       "      <td>10025.0</td>\n",
       "      <td>1.0</td>\n",
       "      <td>1</td>\n",
       "      <td>52</td>\n",
       "      <td>145</td>\n",
       "      <td>99.0</td>\n",
       "    </tr>\n",
       "    <tr>\n",
       "      <th>17</th>\n",
       "      <td>3211</td>\n",
       "      <td>9/25/2008</td>\n",
       "      <td>Elegant NYC, 10mins to Manhattan!</td>\n",
       "      <td>Queens</td>\n",
       "      <td>Apartment</td>\n",
       "      <td>90.0</td>\n",
       "      <td>Private room</td>\n",
       "      <td>11106.0</td>\n",
       "      <td>1.0</td>\n",
       "      <td>1</td>\n",
       "      <td>3</td>\n",
       "      <td>100</td>\n",
       "      <td>93.0</td>\n",
       "    </tr>\n",
       "    <tr>\n",
       "      <th>18</th>\n",
       "      <td>3227</td>\n",
       "      <td>9/26/2008</td>\n",
       "      <td>Priv Apt,Garden,BBQ,A/C,BigTV,for 4</td>\n",
       "      <td>Manhattan</td>\n",
       "      <td>Apartment</td>\n",
       "      <td>85.0</td>\n",
       "      <td>Entire home/apt</td>\n",
       "      <td>10001.0</td>\n",
       "      <td>3.0</td>\n",
       "      <td>1</td>\n",
       "      <td>171</td>\n",
       "      <td>150</td>\n",
       "      <td>85.0</td>\n",
       "    </tr>\n",
       "    <tr>\n",
       "      <th>19</th>\n",
       "      <td>3226</td>\n",
       "      <td>9/26/2008</td>\n",
       "      <td>Great 3 Bed Apt Tribeca / Soho</td>\n",
       "      <td>Manhattan</td>\n",
       "      <td>Apartment</td>\n",
       "      <td>NaN</td>\n",
       "      <td>Entire home/apt</td>\n",
       "      <td>10013.0</td>\n",
       "      <td>3.0</td>\n",
       "      <td>1</td>\n",
       "      <td>0</td>\n",
       "      <td>700</td>\n",
       "      <td>NaN</td>\n",
       "    </tr>\n",
       "  </tbody>\n",
       "</table>\n",
       "</div>"
      ],
      "text/plain": [
       "     Host Id Host Since                                 Name Neighbourhood   \\\n",
       "0    5162530        NaN      1 Bedroom in Prime Williamsburg       Brooklyn   \n",
       "1   33134899        NaN      Sunny, Private room in Bushwick       Brooklyn   \n",
       "2   39608626        NaN                 Sunny Room in Harlem      Manhattan   \n",
       "3        500  6/26/2008   Gorgeous 1 BR with Private Balcony      Manhattan   \n",
       "4        500  6/26/2008             Trendy Times Square Loft      Manhattan   \n",
       "5       1039  7/25/2008   Big Greenpoint 1BD w/ Skyline View       Brooklyn   \n",
       "6       1783  8/12/2008                         Amazing Also      Manhattan   \n",
       "7       2078  8/15/2008  Colorful, quiet, & near the subway!       Brooklyn   \n",
       "8       2339  8/20/2008  East Village Cocoon: 2 Bedroom Flat      Manhattan   \n",
       "9       2339  8/20/2008   Lovely 2 Bedroom East Village Nest      Manhattan   \n",
       "10      2571  8/27/2008                           THE PUTNAM       Brooklyn   \n",
       "11      2758   9/6/2008     Stay at Chez Chic budget room #1      Manhattan   \n",
       "12      2758   9/6/2008     Stay at Chez Chic budget Room #2      Manhattan   \n",
       "13      2787   9/7/2008      Renovated and spacious townhome       Brooklyn   \n",
       "14      2845   9/9/2008                       Midtown Castle      Manhattan   \n",
       "15      2881  9/10/2008  Newly renovated historic brownstone       Brooklyn   \n",
       "16      2965  9/14/2008      Large Bedroom in 3-bedroom Apt.      Manhattan   \n",
       "17      3211  9/25/2008    Elegant NYC, 10mins to Manhattan!         Queens   \n",
       "18      3227  9/26/2008  Priv Apt,Garden,BBQ,A/C,BigTV,for 4      Manhattan   \n",
       "19      3226  9/26/2008       Great 3 Bed Apt Tribeca / Soho      Manhattan   \n",
       "\n",
       "   Property Type  Review Scores Rating (bin)        Room Type  Zipcode  Beds  \\\n",
       "0      Apartment                         NaN  Entire home/apt  11249.0   1.0   \n",
       "1      Apartment                         NaN     Private room  11206.0   1.0   \n",
       "2      Apartment                         NaN     Private room  10032.0   1.0   \n",
       "3      Apartment                         NaN  Entire home/apt  10024.0   3.0   \n",
       "4      Apartment                        95.0     Private room  10036.0   3.0   \n",
       "5      Apartment                       100.0  Entire home/apt  11222.0   1.0   \n",
       "6      Apartment                       100.0  Entire home/apt  10004.0   1.0   \n",
       "7      Apartment                        90.0     Private room  11201.0   1.0   \n",
       "8      Apartment                        90.0  Entire home/apt  10009.0   2.0   \n",
       "9      Apartment                        95.0  Entire home/apt  10009.0   2.0   \n",
       "10     Apartment                        95.0  Entire home/apt  11221.0   2.0   \n",
       "11     Apartment                        90.0     Private room  10026.0   2.0   \n",
       "12     Apartment                        90.0     Private room  10026.0   2.0   \n",
       "13         House                         NaN     Private room  11223.0   1.0   \n",
       "14     Apartment                        95.0  Entire home/apt  10018.0   1.0   \n",
       "15     Apartment                        95.0     Private room  11216.0   1.0   \n",
       "16     Apartment                        95.0     Private room  10025.0   1.0   \n",
       "17     Apartment                        90.0     Private room  11106.0   1.0   \n",
       "18     Apartment                        85.0  Entire home/apt  10001.0   3.0   \n",
       "19     Apartment                         NaN  Entire home/apt  10013.0   3.0   \n",
       "\n",
       "    Number of Records  Number Of Reviews Price  Review Scores Rating  \n",
       "0                   1                  0   145                   NaN  \n",
       "1                   1                  1    37                   NaN  \n",
       "2                   1                  1    28                   NaN  \n",
       "3                   1                  0   199                   NaN  \n",
       "4                   1                 39   549                  96.0  \n",
       "5                   1                  4   149                 100.0  \n",
       "6                   1                  9   250                 100.0  \n",
       "7                   1                 80    90                  94.0  \n",
       "8                   1                 95   270                  90.0  \n",
       "9                   1                 23   290                  96.0  \n",
       "10                  1                 14   170                  98.0  \n",
       "11                  1                120    59                  93.0  \n",
       "12                  1                 81    49                  91.0  \n",
       "13                  1                  0    68                   NaN  \n",
       "14                  1                 17   285                  97.0  \n",
       "15                  1                 32    75                  95.0  \n",
       "16                  1                 52   145                  99.0  \n",
       "17                  1                  3   100                  93.0  \n",
       "18                  1                171   150                  85.0  \n",
       "19                  1                  0   700                   NaN  "
      ]
     },
     "execution_count": 4,
     "metadata": {},
     "output_type": "execute_result"
    }
   ],
   "source": [
    "df = pd.read_csv('https://raw.githubusercontent.com/gatesz33/wrangling/refs/heads/main/assignment/data/airbnb_hw.csv',low_memory=False)\n",
    "df.head(20) #Reading the airbnb_hw.csv file into jupyter notebook environment using Pandas"
   ]
  },
  {
   "cell_type": "code",
   "execution_count": 5,
   "id": "ab76e021-b5ff-44f3-a20c-eed152dc1f19",
   "metadata": {},
   "outputs": [
    {
     "name": "stdout",
     "output_type": "stream",
     "text": [
      "['145' '37' '28' '199' '549' '149' '250' '90' '270' '290' '170' '59' '49'\n",
      " '68' '285' '75' '100' '150' '700' '125' '175' '40' '89' '95' '99' '499'\n",
      " '120' '79' '110' '180' '143' '230' '350' '135' '85' '60' '70' '55' '44'\n",
      " '200' '165' '115' '74' '84' '129' '50' '185' '80' '190' '140' '45' '65'\n",
      " '225' '600' '109' '1,990' '73' '240' '72' '105' '155' '160' '42' '132'\n",
      " '117' '295' '280' '159' '107' '69' '239' '220' '399' '130' '375' '585'\n",
      " '275' '139' '260' '35' '133' '300' '289' '179' '98' '195' '29' '27' '39'\n",
      " '249' '192' '142' '169' '1,000' '131' '138' '113' '122' '329' '101' '475'\n",
      " '238' '272' '308' '126' '235' '315' '248' '128' '56' '207' '450' '215'\n",
      " '210' '385' '445' '136' '247' '118' '77' '76' '92' '198' '205' '299'\n",
      " '222' '245' '104' '153' '349' '114' '320' '292' '226' '420' '500' '325'\n",
      " '307' '78' '265' '108' '123' '189' '32' '58' '86' '219' '800' '335' '63'\n",
      " '229' '425' '67' '87' '1,200' '158' '650' '234' '310' '695' '400' '166'\n",
      " '119' '62' '168' '340' '479' '43' '395' '144' '52' '47' '529' '187' '209'\n",
      " '233' '82' '269' '163' '172' '305' '156' '550' '435' '137' '124' '48'\n",
      " '279' '330' '5,000' '134' '378' '97' '277' '64' '193' '147' '186' '264'\n",
      " '30' '3,000' '112' '94' '379' '57' '415' '236' '410' '214' '88' '66' '71'\n",
      " '171' '157' '545' '1,500' '83' '96' '1,800' '81' '188' '380' '255' '505'\n",
      " '54' '33' '174' '93' '740' '640' '1,300' '440' '599' '357' '1,239' '495'\n",
      " '127' '5,999' '178' '348' '152' '242' '183' '253' '750' '259' '365' '273'\n",
      " '197' '397' '103' '389' '355' '559' '38' '203' '999' '141' '162' '333'\n",
      " '698' '46' '360' '895' '10' '41' '206' '281' '449' '388' '212' '102'\n",
      " '201' '2,750' '4,750' '432' '675' '167' '390' '298' '339' '194' '302'\n",
      " '211' '595' '191' '53' '361' '480' '8,000' '4,500' '459' '997' '345'\n",
      " '216' '218' '111' '735' '276' '91' '490' '850' '398' '36' '775' '267'\n",
      " '625' '336' '2,500' '176' '725' '3,750' '469' '106' '460' '287' '575'\n",
      " '227' '263' '25' '228' '208' '177' '880' '148' '116' '685' '470' '217'\n",
      " '164' '61' '645' '699' '405' '252' '319' '268' '419' '343' '525' '311'\n",
      " '840' '154' '294' '950' '409' '184' '257' '204' '241' '2,000' '412' '121'\n",
      " '288' '196' '900' '647' '524' '1,750' '309' '510' '1,495' '1,700' '799'\n",
      " '383' '372' '492' '327' '1,999' '656' '224' '173' '875' '1,170' '795'\n",
      " '690' '146' '465' '1,100' '151' '274' '429' '825' '282' '256' '1,111'\n",
      " '620' '271' '161' '51' '855' '579' '1,174' '430' '20' '899' '649' '485'\n",
      " '181' '455' '4,000' '243' '342' '590' '560' '374' '437' '232' '359' '985'\n",
      " '31' '244' '254' '723' '237' '428' '370' '34' '1,400' '580' '2,520' '221'\n",
      " '749' '1,600' '2,695' '306' '202' '680' '570' '520' '223' '2,295' '213'\n",
      " '1,065' '346' '24' '286' '296' '266' '26' '995' '1,368' '393' '182' '635'\n",
      " '258' '780' '589' '347' '1,250' '1,350' '446' '3,200' '1,050' '1,650'\n",
      " '1,550' '975' '323' '6,500' '2,499' '1,850' '2,250' '715' '461' '540'\n",
      " '356' '439' '384' '569' '1,900' '22' '785' '626' '830' '318' '444' '321'\n",
      " '401' '1,499' '888' '369' '770' '386' '366' '344' '630' '313' '597' '262'\n",
      " '509' '10,000' '278' '312' '789' '1,195' '422' '21' '765' '3,500' '945'\n",
      " '326' '3,100' '2,486' '3,390' '1,356' '2,599' '472' '454' '328' '396'\n",
      " '291'] \n",
      "\n"
     ]
    }
   ],
   "source": [
    "print(df['Price'].unique(),'\\n') #Looking at all of the values in the Price column to get a sense of how it should be cleaned/approached"
   ]
  },
  {
   "cell_type": "code",
   "execution_count": 6,
   "id": "aa663b2c-d661-4e74-8c1a-e1eda585c898",
   "metadata": {},
   "outputs": [
    {
     "data": {
      "text/plain": [
       "False"
      ]
     },
     "execution_count": 6,
     "metadata": {},
     "output_type": "execute_result"
    }
   ],
   "source": [
    "df['Price'].isnull().values.any() #checking for any missing values"
   ]
  },
  {
   "cell_type": "code",
   "execution_count": 7,
   "id": "457e2ce2-15b3-457a-b311-c2dc0f985181",
   "metadata": {},
   "outputs": [],
   "source": [
    "df['Price']=df['Price'].str.replace(\",\", \"\") #deleting the commas for values above 999"
   ]
  },
  {
   "cell_type": "code",
   "execution_count": 8,
   "id": "197d1fa4-89f2-41a1-ba5f-40b0639db7c6",
   "metadata": {},
   "outputs": [
    {
     "name": "stdout",
     "output_type": "stream",
     "text": [
      "Price\n",
      "150     1481\n",
      "100     1207\n",
      "200     1059\n",
      "125      889\n",
      "75       873\n",
      "        ... \n",
      "840        1\n",
      "306        1\n",
      "2695       1\n",
      "2520       1\n",
      "291        1\n",
      "Name: count, Length: 511, dtype: int64 \n",
      "\n"
     ]
    }
   ],
   "source": [
    "print(df['Price'].value_counts(),'\\n') #taking a look at the Price data after cleaning, they are strings here"
   ]
  },
  {
   "cell_type": "code",
   "execution_count": 9,
   "id": "72489774-4451-44dc-a35d-7906d1984ef0",
   "metadata": {},
   "outputs": [
    {
     "data": {
      "text/plain": [
       "0        145\n",
       "1         37\n",
       "2         28\n",
       "3        199\n",
       "4        549\n",
       "        ... \n",
       "30473    300\n",
       "30474    125\n",
       "30475     80\n",
       "30476     35\n",
       "30477     80\n",
       "Name: Price, Length: 30478, dtype: int64"
      ]
     },
     "execution_count": 9,
     "metadata": {},
     "output_type": "execute_result"
    }
   ],
   "source": [
    "pd.to_numeric(df['Price']) #casting the string values to numeric in order to be able to engage in further statistical analysis"
   ]
  },
  {
   "cell_type": "markdown",
   "id": "1ec0f829-7395-437b-851b-81f7a0491b87",
   "metadata": {},
   "source": [
    "summary: I ended up with no missing values, and then I realized that after 999 the values accrued a comma, so I cleansed that out in order to eventually cast to numeric."
   ]
  },
  {
   "cell_type": "code",
   "execution_count": 11,
   "id": "469b0f9d-1446-4f5c-b7bf-73b3d7181239",
   "metadata": {},
   "outputs": [
    {
     "data": {
      "text/html": [
       "<div>\n",
       "<style scoped>\n",
       "    .dataframe tbody tr th:only-of-type {\n",
       "        vertical-align: middle;\n",
       "    }\n",
       "\n",
       "    .dataframe tbody tr th {\n",
       "        vertical-align: top;\n",
       "    }\n",
       "\n",
       "    .dataframe thead th {\n",
       "        text-align: right;\n",
       "    }\n",
       "</style>\n",
       "<table border=\"1\" class=\"dataframe\">\n",
       "  <thead>\n",
       "    <tr style=\"text-align: right;\">\n",
       "      <th></th>\n",
       "      <th>response_datetime</th>\n",
       "      <th>problem</th>\n",
       "      <th>is_911_call</th>\n",
       "      <th>primary_offense</th>\n",
       "      <th>subject_injury</th>\n",
       "      <th>force_type</th>\n",
       "      <th>force_type_action</th>\n",
       "      <th>race</th>\n",
       "      <th>sex</th>\n",
       "      <th>age</th>\n",
       "      <th>type_resistance</th>\n",
       "      <th>precinct</th>\n",
       "      <th>neighborhood</th>\n",
       "    </tr>\n",
       "  </thead>\n",
       "  <tbody>\n",
       "    <tr>\n",
       "      <th>0</th>\n",
       "      <td>2016/01/01 00:47:36</td>\n",
       "      <td>Assault in Progress</td>\n",
       "      <td>Yes</td>\n",
       "      <td>DASLT1</td>\n",
       "      <td>NaN</td>\n",
       "      <td>Bodily Force</td>\n",
       "      <td>Body Weight to Pin</td>\n",
       "      <td>Black</td>\n",
       "      <td>Male</td>\n",
       "      <td>20.0</td>\n",
       "      <td>Tensed</td>\n",
       "      <td>1</td>\n",
       "      <td>Downtown East</td>\n",
       "    </tr>\n",
       "    <tr>\n",
       "      <th>1</th>\n",
       "      <td>2016/01/01 02:19:34</td>\n",
       "      <td>Fight</td>\n",
       "      <td>No</td>\n",
       "      <td>DISCON</td>\n",
       "      <td>NaN</td>\n",
       "      <td>Chemical Irritant</td>\n",
       "      <td>Personal Mace</td>\n",
       "      <td>Black</td>\n",
       "      <td>Female</td>\n",
       "      <td>27.0</td>\n",
       "      <td>Verbal Non-Compliance</td>\n",
       "      <td>1</td>\n",
       "      <td>Downtown West</td>\n",
       "    </tr>\n",
       "    <tr>\n",
       "      <th>2</th>\n",
       "      <td>2016/01/01 02:19:34</td>\n",
       "      <td>Fight</td>\n",
       "      <td>No</td>\n",
       "      <td>DISCON</td>\n",
       "      <td>NaN</td>\n",
       "      <td>Chemical Irritant</td>\n",
       "      <td>Personal Mace</td>\n",
       "      <td>White</td>\n",
       "      <td>Female</td>\n",
       "      <td>23.0</td>\n",
       "      <td>Verbal Non-Compliance</td>\n",
       "      <td>1</td>\n",
       "      <td>Downtown West</td>\n",
       "    </tr>\n",
       "    <tr>\n",
       "      <th>3</th>\n",
       "      <td>2016/01/01 02:28:48</td>\n",
       "      <td>Fight</td>\n",
       "      <td>No</td>\n",
       "      <td>PRIORI</td>\n",
       "      <td>NaN</td>\n",
       "      <td>Chemical Irritant</td>\n",
       "      <td>Crowd Control Mace</td>\n",
       "      <td>Black</td>\n",
       "      <td>Male</td>\n",
       "      <td>20.0</td>\n",
       "      <td>Commission of Crime</td>\n",
       "      <td>1</td>\n",
       "      <td>Downtown West</td>\n",
       "    </tr>\n",
       "    <tr>\n",
       "      <th>4</th>\n",
       "      <td>2016/01/01 02:28:48</td>\n",
       "      <td>Fight</td>\n",
       "      <td>No</td>\n",
       "      <td>PRIORI</td>\n",
       "      <td>NaN</td>\n",
       "      <td>Chemical Irritant</td>\n",
       "      <td>Crowd Control Mace</td>\n",
       "      <td>Black</td>\n",
       "      <td>Male</td>\n",
       "      <td>20.0</td>\n",
       "      <td>Commission of Crime</td>\n",
       "      <td>1</td>\n",
       "      <td>Downtown West</td>\n",
       "    </tr>\n",
       "  </tbody>\n",
       "</table>\n",
       "</div>"
      ],
      "text/plain": [
       "     response_datetime               problem is_911_call primary_offense  \\\n",
       "0  2016/01/01 00:47:36  Assault in Progress          Yes          DASLT1   \n",
       "1  2016/01/01 02:19:34                Fight           No          DISCON   \n",
       "2  2016/01/01 02:19:34                Fight           No          DISCON   \n",
       "3  2016/01/01 02:28:48                Fight           No          PRIORI   \n",
       "4  2016/01/01 02:28:48                Fight           No          PRIORI   \n",
       "\n",
       "  subject_injury         force_type   force_type_action   race     sex   age  \\\n",
       "0            NaN       Bodily Force  Body Weight to Pin  Black    Male  20.0   \n",
       "1            NaN  Chemical Irritant       Personal Mace  Black  Female  27.0   \n",
       "2            NaN  Chemical Irritant       Personal Mace  White  Female  23.0   \n",
       "3            NaN  Chemical Irritant  Crowd Control Mace  Black    Male  20.0   \n",
       "4            NaN  Chemical Irritant  Crowd Control Mace  Black    Male  20.0   \n",
       "\n",
       "         type_resistance  precinct   neighborhood  \n",
       "0                 Tensed         1  Downtown East  \n",
       "1  Verbal Non-Compliance         1  Downtown West  \n",
       "2  Verbal Non-Compliance         1  Downtown West  \n",
       "3    Commission of Crime         1  Downtown West  \n",
       "4    Commission of Crime         1  Downtown West  "
      ]
     },
     "execution_count": 11,
     "metadata": {},
     "output_type": "execute_result"
    }
   ],
   "source": [
    "df_police = pd.read_csv('https://raw.githubusercontent.com/ds4e/wrangling/main/assignment/data/mn_police_use_of_force.csv')\n",
    "df_police.head() #Reading the Use of Police force dataset into my Python environment"
   ]
  },
  {
   "cell_type": "code",
   "execution_count": 12,
   "id": "06bc671c-c856-460a-ac0e-4349bd316ccb",
   "metadata": {},
   "outputs": [
    {
     "data": {
      "text/plain": [
       "subject_injury\n",
       "NaN    9848\n",
       "Yes    1631\n",
       "No     1446\n",
       "Name: count, dtype: int64"
      ]
     },
     "execution_count": 12,
     "metadata": {},
     "output_type": "execute_result"
    }
   ],
   "source": [
    "df_police['subject_injury'].value_counts(dropna=False) #used this to check the unique values in the data sets, I added in dropna=False to view missing values"
   ]
  },
  {
   "cell_type": "code",
   "execution_count": 13,
   "id": "a9a27984-efd6-4d9a-ba8a-818fa73b023a",
   "metadata": {},
   "outputs": [
    {
     "data": {
      "text/plain": [
       "subject_injury\n",
       "Unreported    9848\n",
       "Yes           1631\n",
       "No            1446\n",
       "Name: count, dtype: int64"
      ]
     },
     "execution_count": 13,
     "metadata": {},
     "output_type": "execute_result"
    }
   ],
   "source": [
    "df_police['subject_injury']= df_police['subject_injury'].fillna('Unreported') #Imputing missing values to read as 'Unreported' instead of just existing as nans\n",
    "df_police['subject_injury'].value_counts()"
   ]
  },
  {
   "cell_type": "code",
   "execution_count": 14,
   "id": "a748fc98-c47b-453c-9d94-d85fc9d84ee3",
   "metadata": {},
   "outputs": [
    {
     "data": {
      "text/plain": [
       "76.19342359767892"
      ]
     },
     "execution_count": 14,
     "metadata": {},
     "output_type": "execute_result"
    }
   ],
   "source": [
    "9848/(9848+1631+1446) * 100 #Finding the percent of subject injuries that go unreported by looking at the value counts and dividing unreported cases by total cases"
   ]
  },
  {
   "cell_type": "markdown",
   "id": "4dc255d5-f3f5-438f-ab6b-f694025a6887",
   "metadata": {},
   "source": [
    "According to my calculations above, nans, which I renamed \"Unreported\", make up 76% of the data. This is a high amount of non-response, but it's actually not surprising. I think that getting data on arrests is very difficult, and could require a lot of further investigation. I don't think it's a concern, I think it's non-response or just lack of information about each arrest. "
   ]
  },
  {
   "cell_type": "code",
   "execution_count": 16,
   "id": "dd9eea19-09d6-40e7-b02b-5451cc4f7f48",
   "metadata": {
    "scrolled": true
   },
   "outputs": [
    {
     "data": {
      "text/html": [
       "<div>\n",
       "<style scoped>\n",
       "    .dataframe tbody tr th:only-of-type {\n",
       "        vertical-align: middle;\n",
       "    }\n",
       "\n",
       "    .dataframe tbody tr th {\n",
       "        vertical-align: top;\n",
       "    }\n",
       "\n",
       "    .dataframe thead th {\n",
       "        text-align: right;\n",
       "    }\n",
       "</style>\n",
       "<table border=\"1\" class=\"dataframe\">\n",
       "  <thead>\n",
       "    <tr style=\"text-align: right;\">\n",
       "      <th>force_type</th>\n",
       "      <th>Baton</th>\n",
       "      <th>Bodily Force</th>\n",
       "      <th>Chemical Irritant</th>\n",
       "      <th>Firearm</th>\n",
       "      <th>Gun Point Display</th>\n",
       "      <th>Improvised Weapon</th>\n",
       "      <th>Less Lethal</th>\n",
       "      <th>Less Lethal Projectile</th>\n",
       "      <th>Maximal Restraint Technique</th>\n",
       "      <th>Police K9 Bite</th>\n",
       "      <th>Taser</th>\n",
       "    </tr>\n",
       "    <tr>\n",
       "      <th>subject_injury</th>\n",
       "      <th></th>\n",
       "      <th></th>\n",
       "      <th></th>\n",
       "      <th></th>\n",
       "      <th></th>\n",
       "      <th></th>\n",
       "      <th></th>\n",
       "      <th></th>\n",
       "      <th></th>\n",
       "      <th></th>\n",
       "      <th></th>\n",
       "    </tr>\n",
       "  </thead>\n",
       "  <tbody>\n",
       "    <tr>\n",
       "      <th>No</th>\n",
       "      <td>0</td>\n",
       "      <td>1093</td>\n",
       "      <td>131</td>\n",
       "      <td>2</td>\n",
       "      <td>33</td>\n",
       "      <td>34</td>\n",
       "      <td>0</td>\n",
       "      <td>1</td>\n",
       "      <td>0</td>\n",
       "      <td>2</td>\n",
       "      <td>150</td>\n",
       "    </tr>\n",
       "    <tr>\n",
       "      <th>Unreported</th>\n",
       "      <td>2</td>\n",
       "      <td>7051</td>\n",
       "      <td>1421</td>\n",
       "      <td>0</td>\n",
       "      <td>27</td>\n",
       "      <td>74</td>\n",
       "      <td>87</td>\n",
       "      <td>0</td>\n",
       "      <td>170</td>\n",
       "      <td>31</td>\n",
       "      <td>985</td>\n",
       "    </tr>\n",
       "    <tr>\n",
       "      <th>Yes</th>\n",
       "      <td>2</td>\n",
       "      <td>1286</td>\n",
       "      <td>41</td>\n",
       "      <td>0</td>\n",
       "      <td>44</td>\n",
       "      <td>40</td>\n",
       "      <td>0</td>\n",
       "      <td>2</td>\n",
       "      <td>0</td>\n",
       "      <td>44</td>\n",
       "      <td>172</td>\n",
       "    </tr>\n",
       "  </tbody>\n",
       "</table>\n",
       "</div>"
      ],
      "text/plain": [
       "force_type      Baton  Bodily Force  Chemical Irritant  Firearm  \\\n",
       "subject_injury                                                    \n",
       "No                  0          1093                131        2   \n",
       "Unreported          2          7051               1421        0   \n",
       "Yes                 2          1286                 41        0   \n",
       "\n",
       "force_type      Gun Point Display  Improvised Weapon  Less Lethal  \\\n",
       "subject_injury                                                      \n",
       "No                             33                 34            0   \n",
       "Unreported                     27                 74           87   \n",
       "Yes                            44                 40            0   \n",
       "\n",
       "force_type      Less Lethal Projectile  Maximal Restraint Technique  \\\n",
       "subject_injury                                                        \n",
       "No                                   1                            0   \n",
       "Unreported                           0                          170   \n",
       "Yes                                  2                            0   \n",
       "\n",
       "force_type      Police K9 Bite  Taser  \n",
       "subject_injury                         \n",
       "No                           2    150  \n",
       "Unreported                  31    985  \n",
       "Yes                         44    172  "
      ]
     },
     "execution_count": 16,
     "metadata": {},
     "output_type": "execute_result"
    }
   ],
   "source": [
    "pd.crosstab(df_police['subject_injury'], df_police['force_type'] ) #performing the cross tabulation between the two variables to examine relationships"
   ]
  },
  {
   "cell_type": "markdown",
   "id": "fbcb9124-8640-416c-8268-b0a64c310ed6",
   "metadata": {},
   "source": [
    "It seems like the most data we have are on arrest cases involving bodily force. In this case, there seemed to be about a 50% rate of injury. There are also a significant amount of cases involving gun point display in tasers. More people were injured, rather than not, when the arrests involved these force types, except for firearms. When there is a force type listed, the arrest is likely to involve bodily harm."
   ]
  },
  {
   "cell_type": "code",
   "execution_count": 18,
   "id": "0aa060d7-35be-4367-a9ed-5c0631891890",
   "metadata": {
    "scrolled": true
   },
   "outputs": [
    {
     "data": {
      "text/html": [
       "<div>\n",
       "<style scoped>\n",
       "    .dataframe tbody tr th:only-of-type {\n",
       "        vertical-align: middle;\n",
       "    }\n",
       "\n",
       "    .dataframe tbody tr th {\n",
       "        vertical-align: top;\n",
       "    }\n",
       "\n",
       "    .dataframe thead th {\n",
       "        text-align: right;\n",
       "    }\n",
       "</style>\n",
       "<table border=\"1\" class=\"dataframe\">\n",
       "  <thead>\n",
       "    <tr style=\"text-align: right;\">\n",
       "      <th>force_type</th>\n",
       "      <th>Baton</th>\n",
       "      <th>Bodily Force</th>\n",
       "      <th>Chemical Irritant</th>\n",
       "      <th>Firearm</th>\n",
       "      <th>Gun Point Display</th>\n",
       "      <th>Improvised Weapon</th>\n",
       "      <th>Less Lethal</th>\n",
       "      <th>Less Lethal Projectile</th>\n",
       "      <th>Maximal Restraint Technique</th>\n",
       "      <th>Police K9 Bite</th>\n",
       "      <th>Taser</th>\n",
       "    </tr>\n",
       "    <tr>\n",
       "      <th>subject_injury</th>\n",
       "      <th></th>\n",
       "      <th></th>\n",
       "      <th></th>\n",
       "      <th></th>\n",
       "      <th></th>\n",
       "      <th></th>\n",
       "      <th></th>\n",
       "      <th></th>\n",
       "      <th></th>\n",
       "      <th></th>\n",
       "      <th></th>\n",
       "    </tr>\n",
       "  </thead>\n",
       "  <tbody>\n",
       "    <tr>\n",
       "      <th>False</th>\n",
       "      <td>2</td>\n",
       "      <td>2379</td>\n",
       "      <td>172</td>\n",
       "      <td>2</td>\n",
       "      <td>77</td>\n",
       "      <td>74</td>\n",
       "      <td>0</td>\n",
       "      <td>3</td>\n",
       "      <td>0</td>\n",
       "      <td>46</td>\n",
       "      <td>322</td>\n",
       "    </tr>\n",
       "    <tr>\n",
       "      <th>True</th>\n",
       "      <td>2</td>\n",
       "      <td>7051</td>\n",
       "      <td>1421</td>\n",
       "      <td>0</td>\n",
       "      <td>27</td>\n",
       "      <td>74</td>\n",
       "      <td>87</td>\n",
       "      <td>0</td>\n",
       "      <td>170</td>\n",
       "      <td>31</td>\n",
       "      <td>985</td>\n",
       "    </tr>\n",
       "  </tbody>\n",
       "</table>\n",
       "</div>"
      ],
      "text/plain": [
       "force_type      Baton  Bodily Force  Chemical Irritant  Firearm  \\\n",
       "subject_injury                                                    \n",
       "False               2          2379                172        2   \n",
       "True                2          7051               1421        0   \n",
       "\n",
       "force_type      Gun Point Display  Improvised Weapon  Less Lethal  \\\n",
       "subject_injury                                                      \n",
       "False                          77                 74            0   \n",
       "True                           27                 74           87   \n",
       "\n",
       "force_type      Less Lethal Projectile  Maximal Restraint Technique  \\\n",
       "subject_injury                                                        \n",
       "False                                3                            0   \n",
       "True                                 0                          170   \n",
       "\n",
       "force_type      Police K9 Bite  Taser  \n",
       "subject_injury                         \n",
       "False                       46    322  \n",
       "True                        31    985  "
      ]
     },
     "execution_count": 18,
     "metadata": {},
     "output_type": "execute_result"
    }
   ],
   "source": [
    "pd.crosstab(df_police['subject_injury'] == 'Unreported', df_police['force_type']) #Examining the missing values regarding whether there was an injury against force type to examine possible patterns"
   ]
  },
  {
   "cell_type": "markdown",
   "id": "3f994aa1-4841-4184-b301-fb84ad638f9e",
   "metadata": {},
   "source": [
    "Most injuries during arrest that are not reported involved the use of bodily force, chemical, irritants and tasers. I think this is really interesting to see, for the missing values could indicate a lack of reporting on the side of the police. This is especially important to analyze as more information surfaces regarding police brutality. It could speak volumes for the research that is being done on oppression of marginalized groups in instances of arrest."
   ]
  },
  {
   "cell_type": "code",
   "execution_count": 20,
   "id": "aeadd51d-53e3-47e6-a9b5-e8f7257b8aff",
   "metadata": {},
   "outputs": [
    {
     "data": {
      "text/html": [
       "<div>\n",
       "<style scoped>\n",
       "    .dataframe tbody tr th:only-of-type {\n",
       "        vertical-align: middle;\n",
       "    }\n",
       "\n",
       "    .dataframe tbody tr th {\n",
       "        vertical-align: top;\n",
       "    }\n",
       "\n",
       "    .dataframe thead th {\n",
       "        text-align: right;\n",
       "    }\n",
       "</style>\n",
       "<table border=\"1\" class=\"dataframe\">\n",
       "  <thead>\n",
       "    <tr style=\"text-align: right;\">\n",
       "      <th></th>\n",
       "      <th>InternalStudyID</th>\n",
       "      <th>REQ_REC#</th>\n",
       "      <th>Defendant_Sex</th>\n",
       "      <th>Defendant_Race</th>\n",
       "      <th>Defendant_BirthYear</th>\n",
       "      <th>Defendant_Age</th>\n",
       "      <th>Defendant_AgeGroup</th>\n",
       "      <th>Defendant_AgeatCurrentArrest</th>\n",
       "      <th>Defendant_AttorneyTypeAtCaseClosure</th>\n",
       "      <th>Defendant_IndigencyStatus</th>\n",
       "      <th>...</th>\n",
       "      <th>NewFelonySexualAssaultArrest_OffDate</th>\n",
       "      <th>NewFelonySexualAssaultArrest_ArrestDate</th>\n",
       "      <th>NewFelonySexualAssaultArrest_DaysBetweenContactEventandOffDate</th>\n",
       "      <th>NewFelonySexualAssaultArrest_DaysBetweenOffDateandArrestDate</th>\n",
       "      <th>NewFelonySexualAssaultArrest_DaysBetweenReleaseDateandOffDate</th>\n",
       "      <th>NewFelonySexualAssaultArrest_Disposition</th>\n",
       "      <th>Intertnalindicator_ReasonforExcludingFromFollowUpAnalysis</th>\n",
       "      <th>CriminalHistoryRecordsReturnedorCMSRecordsFoundforIndividual</th>\n",
       "      <th>DispRecordFoundforChargesinOct2017Contact_Atleast1dispfound</th>\n",
       "      <th>CrimeCommission2021ReportClassificationofDefendants</th>\n",
       "    </tr>\n",
       "  </thead>\n",
       "  <tbody>\n",
       "    <tr>\n",
       "      <th>0</th>\n",
       "      <td>ADI00001</td>\n",
       "      <td>1</td>\n",
       "      <td>M</td>\n",
       "      <td>W</td>\n",
       "      <td>1986</td>\n",
       "      <td>31</td>\n",
       "      <td>3</td>\n",
       "      <td>31</td>\n",
       "      <td>99</td>\n",
       "      <td>99</td>\n",
       "      <td>...</td>\n",
       "      <td></td>\n",
       "      <td></td>\n",
       "      <td></td>\n",
       "      <td>999</td>\n",
       "      <td>999</td>\n",
       "      <td></td>\n",
       "      <td>4</td>\n",
       "      <td>1</td>\n",
       "      <td>0</td>\n",
       "      <td>Defendant could not be classified or tracked d...</td>\n",
       "    </tr>\n",
       "    <tr>\n",
       "      <th>1</th>\n",
       "      <td>ADI00007</td>\n",
       "      <td>3</td>\n",
       "      <td>M</td>\n",
       "      <td>B</td>\n",
       "      <td>1956</td>\n",
       "      <td>60</td>\n",
       "      <td>6</td>\n",
       "      <td>60</td>\n",
       "      <td>9</td>\n",
       "      <td>9</td>\n",
       "      <td>...</td>\n",
       "      <td></td>\n",
       "      <td></td>\n",
       "      <td></td>\n",
       "      <td>999</td>\n",
       "      <td>999</td>\n",
       "      <td></td>\n",
       "      <td>5</td>\n",
       "      <td>1</td>\n",
       "      <td>1</td>\n",
       "      <td>Defendant Detained Entire Pre-Trial Period_Und...</td>\n",
       "    </tr>\n",
       "    <tr>\n",
       "      <th>2</th>\n",
       "      <td>ADI00008</td>\n",
       "      <td>4</td>\n",
       "      <td>M</td>\n",
       "      <td>W</td>\n",
       "      <td>1990</td>\n",
       "      <td>27</td>\n",
       "      <td>3</td>\n",
       "      <td>27</td>\n",
       "      <td>9</td>\n",
       "      <td>9</td>\n",
       "      <td>...</td>\n",
       "      <td></td>\n",
       "      <td></td>\n",
       "      <td></td>\n",
       "      <td>999</td>\n",
       "      <td>999</td>\n",
       "      <td></td>\n",
       "      <td>5</td>\n",
       "      <td>1</td>\n",
       "      <td>1</td>\n",
       "      <td>Defendant Detained Entire Pre-Trial Period_Und...</td>\n",
       "    </tr>\n",
       "    <tr>\n",
       "      <th>3</th>\n",
       "      <td>CDI00036</td>\n",
       "      <td>6</td>\n",
       "      <td>M</td>\n",
       "      <td>B</td>\n",
       "      <td>1989</td>\n",
       "      <td>27</td>\n",
       "      <td>3</td>\n",
       "      <td>27</td>\n",
       "      <td>0</td>\n",
       "      <td>0</td>\n",
       "      <td>...</td>\n",
       "      <td></td>\n",
       "      <td></td>\n",
       "      <td></td>\n",
       "      <td>999</td>\n",
       "      <td>999</td>\n",
       "      <td></td>\n",
       "      <td>5</td>\n",
       "      <td>1</td>\n",
       "      <td>1</td>\n",
       "      <td>Defendant Detained Entire Pre-Trial Period_Und...</td>\n",
       "    </tr>\n",
       "    <tr>\n",
       "      <th>4</th>\n",
       "      <td>CDI00038</td>\n",
       "      <td>7</td>\n",
       "      <td>F</td>\n",
       "      <td>W</td>\n",
       "      <td>1988</td>\n",
       "      <td>28</td>\n",
       "      <td>3</td>\n",
       "      <td>28</td>\n",
       "      <td>0</td>\n",
       "      <td>0</td>\n",
       "      <td>...</td>\n",
       "      <td></td>\n",
       "      <td></td>\n",
       "      <td></td>\n",
       "      <td>999</td>\n",
       "      <td>999</td>\n",
       "      <td></td>\n",
       "      <td>0</td>\n",
       "      <td>1</td>\n",
       "      <td>1</td>\n",
       "      <td>New criminal offense punishable by incarcerati...</td>\n",
       "    </tr>\n",
       "  </tbody>\n",
       "</table>\n",
       "<p>5 rows × 709 columns</p>\n",
       "</div>"
      ],
      "text/plain": [
       "  InternalStudyID REQ_REC# Defendant_Sex Defendant_Race Defendant_BirthYear  \\\n",
       "0        ADI00001        1             M              W                1986   \n",
       "1        ADI00007        3             M              B                1956   \n",
       "2        ADI00008        4             M              W                1990   \n",
       "3        CDI00036        6             M              B                1989   \n",
       "4        CDI00038        7             F              W                1988   \n",
       "\n",
       "  Defendant_Age  Defendant_AgeGroup Defendant_AgeatCurrentArrest  \\\n",
       "0            31                   3                           31   \n",
       "1            60                   6                           60   \n",
       "2            27                   3                           27   \n",
       "3            27                   3                           27   \n",
       "4            28                   3                           28   \n",
       "\n",
       "   Defendant_AttorneyTypeAtCaseClosure  Defendant_IndigencyStatus  ...  \\\n",
       "0                                   99                         99  ...   \n",
       "1                                    9                          9  ...   \n",
       "2                                    9                          9  ...   \n",
       "3                                    0                          0  ...   \n",
       "4                                    0                          0  ...   \n",
       "\n",
       "  NewFelonySexualAssaultArrest_OffDate  \\\n",
       "0                                        \n",
       "1                                        \n",
       "2                                        \n",
       "3                                        \n",
       "4                                        \n",
       "\n",
       "  NewFelonySexualAssaultArrest_ArrestDate  \\\n",
       "0                                           \n",
       "1                                           \n",
       "2                                           \n",
       "3                                           \n",
       "4                                           \n",
       "\n",
       "   NewFelonySexualAssaultArrest_DaysBetweenContactEventandOffDate  \\\n",
       "0                                                                   \n",
       "1                                                                   \n",
       "2                                                                   \n",
       "3                                                                   \n",
       "4                                                                   \n",
       "\n",
       "  NewFelonySexualAssaultArrest_DaysBetweenOffDateandArrestDate  \\\n",
       "0                                                999             \n",
       "1                                                999             \n",
       "2                                                999             \n",
       "3                                                999             \n",
       "4                                                999             \n",
       "\n",
       "   NewFelonySexualAssaultArrest_DaysBetweenReleaseDateandOffDate  \\\n",
       "0                                                999               \n",
       "1                                                999               \n",
       "2                                                999               \n",
       "3                                                999               \n",
       "4                                                999               \n",
       "\n",
       "   NewFelonySexualAssaultArrest_Disposition  \\\n",
       "0                                             \n",
       "1                                             \n",
       "2                                             \n",
       "3                                             \n",
       "4                                             \n",
       "\n",
       "   Intertnalindicator_ReasonforExcludingFromFollowUpAnalysis  \\\n",
       "0                                                  4           \n",
       "1                                                  5           \n",
       "2                                                  5           \n",
       "3                                                  5           \n",
       "4                                                  0           \n",
       "\n",
       "   CriminalHistoryRecordsReturnedorCMSRecordsFoundforIndividual  \\\n",
       "0                                                  1              \n",
       "1                                                  1              \n",
       "2                                                  1              \n",
       "3                                                  1              \n",
       "4                                                  1              \n",
       "\n",
       "  DispRecordFoundforChargesinOct2017Contact_Atleast1dispfound  \\\n",
       "0                                                  0            \n",
       "1                                                  1            \n",
       "2                                                  1            \n",
       "3                                                  1            \n",
       "4                                                  1            \n",
       "\n",
       "   CrimeCommission2021ReportClassificationofDefendants  \n",
       "0  Defendant could not be classified or tracked d...    \n",
       "1  Defendant Detained Entire Pre-Trial Period_Und...    \n",
       "2  Defendant Detained Entire Pre-Trial Period_Und...    \n",
       "3  Defendant Detained Entire Pre-Trial Period_Und...    \n",
       "4  New criminal offense punishable by incarcerati...    \n",
       "\n",
       "[5 rows x 709 columns]"
      ]
     },
     "execution_count": 20,
     "metadata": {},
     "output_type": "execute_result"
    }
   ],
   "source": [
    "df_justice= pd.read_parquet(\"https://github.com/ds4e/wrangling/raw/refs/heads/main/assignment/data/justice_data.parquet\")\n",
    "df_justice.head() #Reading in the justice data, it's too large to be read in as a csv, so it's been transformed into a parquet file for us"
   ]
  },
  {
   "cell_type": "code",
   "execution_count": 21,
   "id": "889585d3-1fc3-420b-b052-2d69a30d207c",
   "metadata": {},
   "outputs": [
    {
     "name": "stdout",
     "output_type": "stream",
     "text": [
      "WhetherDefendantWasReleasedPretrial\n",
      "1    19154\n",
      "0     3801\n",
      "9       31\n",
      "Name: count, dtype: int64 \n",
      "\n"
     ]
    },
    {
     "data": {
      "text/plain": [
       "0"
      ]
     },
     "execution_count": 21,
     "metadata": {},
     "output_type": "execute_result"
    }
   ],
   "source": [
    "print(df_justice['WhetherDefendantWasReleasedPretrial'].value_counts(),'\\n') #Looking at the data in the column to determine what cleaning to do\n",
    "df_justice['WhetherDefendantWasReleasedPretrial'].isna().sum() #Checking if there are any missing values beyond those coded to 9"
   ]
  },
  {
   "cell_type": "code",
   "execution_count": 22,
   "id": "75707237-7f0a-4576-95b8-7625da49acaf",
   "metadata": {},
   "outputs": [],
   "source": [
    "df_justice['WhetherDefendantWasReleasedPretrial'] = df_justice['WhetherDefendantWasReleasedPretrial'].replace(9, np.nan) \n",
    "#Casting the missing values that are marked as 9 to nans"
   ]
  },
  {
   "cell_type": "code",
   "execution_count": 23,
   "id": "2df3daa7-a9b4-40d8-b0e6-777b28ccf983",
   "metadata": {},
   "outputs": [
    {
     "data": {
      "text/plain": [
       "WhetherDefendantWasReleasedPretrial\n",
       "1.0    19154\n",
       "0.0     3801\n",
       "NaN       31\n",
       "Name: count, dtype: int64"
      ]
     },
     "execution_count": 23,
     "metadata": {},
     "output_type": "execute_result"
    }
   ],
   "source": [
    "df_justice['WhetherDefendantWasReleasedPretrial'].value_counts(dropna=False) #Verifying that this went through"
   ]
  },
  {
   "cell_type": "code",
   "execution_count": 24,
   "id": "1de9625d-ace7-4246-92e5-890cffdfc63b",
   "metadata": {},
   "outputs": [
    {
     "data": {
      "text/plain": [
       "SentenceTypeAllChargesAtConvictionInContactEvent\n",
       "4    8779\n",
       "0    8720\n",
       "1    4299\n",
       "2     914\n",
       "9     274\n",
       "Name: count, dtype: int64"
      ]
     },
     "execution_count": 24,
     "metadata": {},
     "output_type": "execute_result"
    }
   ],
   "source": [
    "df_justice['SentenceTypeAllChargesAtConvictionInContactEvent'].value_counts()"
   ]
  },
  {
   "cell_type": "code",
   "execution_count": 25,
   "id": "db71b49a-d031-43b2-9729-72709c5301d9",
   "metadata": {},
   "outputs": [
    {
     "data": {
      "text/plain": [
       "array([' ', '60', '12', '.985626283367556', '36', '6', '24',\n",
       "       '5.91375770020534', '120', '72', '11.9917864476386', '0',\n",
       "       '2.95687885010267', '84', '108', '300', '240', '180', '4', '96',\n",
       "       '2', '54', '.328542094455852', '44', '5', '115', '132', '48',\n",
       "       '258', '34', '76', '.164271047227926', '.131416837782341', '111',\n",
       "       '9', '3', '1.97125256673511', '36.9856262833676',\n",
       "       '.0657084188911704', '35.4928131416838', '106.492813141684', '8',\n",
       "       '35', '18.3141683778234', '480', '32', '93', '234', '732',\n",
       "       '1.16427104722793', '4.6570841889117', '21', '7',\n",
       "       '4.49281314168378', '18', '600', '43.1642710472279', '179', '52',\n",
       "       '30', '20', '192', '702', '14', '55', '53', '11.9055441478439',\n",
       "       '114', '35.0061601642711', '68', '.657084188911704',\n",
       "       '46.6242299794661', '102', '65', '200', '57', '24.3285420944559',\n",
       "       '12.1642710472279', '117', '81.4928131416838', '22.4928131416838',\n",
       "       '1980', '3.6570841889117', '56', '10', '2.79260780287474', '1',\n",
       "       '47', '22', '1500', '40', '284', '11', '118', '42', '162', '156',\n",
       "       '47.2956878850103', '105', '51', '246', '29', '75', '324', '360',\n",
       "       '34.4804928131417', '120.328542094456', '59.9260780287474', '66',\n",
       "       '59.9917864476386', '660', '51.1642710472279', '14.9568788501027',\n",
       "       '3.98562628336756', '78', '228', '1.47843942505133', '62', '4.8',\n",
       "       '86', '168', '23', '33', '48.0328542094456', '720', '348', '1200',\n",
       "       '27', '49', '87', '420', '63', '79.9260780287474',\n",
       "       '57.0349075975359', '49.9712525667351', '59.4928131416838', '17',\n",
       "       '238.492813141684', '60.9856262833676', '126', '45', '158', '216',\n",
       "       '227', '42.9568788501027', '445', '70.952772073922', '516',\n",
       "       '177.82135523614', '1752', '90', '1080', '141', '4.82956878850103',\n",
       "       '230', '31', '2208', '52.5133470225873', '69', '26',\n",
       "       '33.4928131416838', '140', '131', '344', '219', '101', '71', '59',\n",
       "       '58', '120.197125256674', '67', '35.4004106776181',\n",
       "       '3.28542094455852', '40.1642710472279', '91', '1.7741273100616',\n",
       "       '155', '34.4928131416838', '81', '92.3285420944559',\n",
       "       '3.5482546201232', '207', '74', '518', '28', '8.95687885010267',\n",
       "       '237', '404.673511293634', '18.1642710472279', '10.7433264887064',\n",
       "       '551', '39', '15', '124', '43', '176', '19.4928131416838', '482',\n",
       "       '129', '88', '46', '45.8542094455852', '128.628336755647',\n",
       "       '136.492813141684', '108.328542094456', '50', '363.663244353183',\n",
       "       '288', '250', '107', '81.0225872689938', '444', '205',\n",
       "       '10.6570841889117', '19', '66.9856262833676', '38.4928131416838',\n",
       "       '264', '276', '173', '222', '144', '294', '336', '431', '450',\n",
       "       '73', '99.3285420944559', '128', '30.8069815195072',\n",
       "       '31.5256673511294', '127', '202', '55.3285420944559', '89', '242',\n",
       "       '1.31416837782341', '1029', '.788501026694045', '194.858316221766',\n",
       "       '399', '39.6570841889117', '56.95687885', '198',\n",
       "       '120.985626283368', '47.6570841889117', '148', '6.8993839835729',\n",
       "       '65.3285420944559', '5.95277207392197', '.0985626283367557',\n",
       "       '3.32854209445585', '3.94250513347023', '12.9856262833676',\n",
       "       '6.98562628336756', '13.1498973305955', '15.1642710472279',\n",
       "       '17.1971252566735', '17.9137577002053', '104', '212',\n",
       "       '24.6570841889117', '72.6570841889117', '2.98562628336756',\n",
       "       '144.985626283368', '31.9712525667351', '183', '4.98562628336756',\n",
       "       '11.8213552361396', '252', '12.394250513347', '42.4928131416838',\n",
       "       '10.1642710472279', '11.1642710472279', '5.49281314168378',\n",
       "       '59.6632443531827', '12.3285420944559', '48.9856262833676',\n",
       "       '240.985626283368', '2.6570841889117', '540', '2.97125256673511',\n",
       "       '6.32854209445585', '23.6632443531828', '133.657084188912',\n",
       "       '35.3285420944559', '456', '103', '1.72279260780287',\n",
       "       '12.6570841889117', '11.6570841889117', '60.3285420944559',\n",
       "       '3.78850102669405', '576', '2.13141683778234', '492',\n",
       "       '14.9856262833676', '24.9856262833676', '61.9712525667351',\n",
       "       '5.6570841889117', '16', '42.1642710472279', '.492813141683778',\n",
       "       '138', '13.3141683778234', '11.8932238193018', '5.32854209445585',\n",
       "       '95', '62.6570841889117', '3.08829568788501', '11.8275154004107',\n",
       "       '1.64271047227926', '47.9917864476386', '4.27104722792608',\n",
       "       '8.32854209445585', '3.31416837782341', '70', '77',\n",
       "       '1.09856262833676', '48.1642710472279', '27.4928131416838',\n",
       "       '6.93839835728953', '1011', '.68993839835729', '1.1170431211499',\n",
       "       '1.49281314168378', '4.16427104722793', '1.19712525667351',\n",
       "       '4.07392197125257', '188', '11.3285420944559', '.0328542094455852',\n",
       "       '432', '11.952772073922', '36.4928131416838', '23.9835728952772',\n",
       "       '9.98562628336756', '98', '36.3285420944559', '112',\n",
       "       '.394250513347023', '13', '.262833675564682', '13.7987679671458',\n",
       "       '5.8870636550308', '354', '5.91991786447639', '24.1642710472279',\n",
       "       '62.95687885', '4.59958932238193', '123', '2.32854209445585',\n",
       "       '23.9240246406571', '204', '197', '174', '16.1498973305955', '840',\n",
       "       '440', '98.95687885', '17.952772073922', '63.9425051334702',\n",
       "       '60.1314168377823', '12.1314168377823', '172.952772073922',\n",
       "       '.197125256673511', '138.164271047228', '4.92813141683778',\n",
       "       '.919917864476386', '18.9856262833676', '6.6570841889117',\n",
       "       '2.85420944558522', '8.91375770020534', '146', '12.4928131416838',\n",
       "       '.558521560574949', '.722792607802875', '5.82135523613963',\n",
       "       '84.9856262833676', '6.16427104722793', '15.9856262833676',\n",
       "       '64.5585215605749', '38.299794661191', '11.958932238193',\n",
       "       '3.1211498973306', '126.328542094456', '5.16427104722793', '64',\n",
       "       '42.6570841889117', '312', '19.9712525667351', '82.3285420944559',\n",
       "       '23.9712525667351', '17.6242299794661', '121.971252566735',\n",
       "       '59.6550308008214', '1.32854209445585', '7.97125256673511',\n",
       "       '1.91991786447639', '.525667351129363', '9.32854209445585',\n",
       "       '42.9856262833676', '41.9137577002053', '72.9856262833676',\n",
       "       '12.4784394250513', '5.19096509240246', '473', '16.6570841889117',\n",
       "       '109', '86.3285420944559', '41', '1.90554414784394',\n",
       "       '94.1642710472279', '302', '4.39425051334702', '10.8213552361396',\n",
       "       '18.3285420944559', '154', '83', '110.956878850103', '226',\n",
       "       '96.0328542094456', '4.82135523613963', '30.3285420944559',\n",
       "       '37.9712525667351', '50.4640657084189', '286', '99',\n",
       "       '99.4928131416838', '2.6611909650924', '70.9712525667351',\n",
       "       '13.9712525667351', '23.6570841889117', '.459958932238193',\n",
       "       '132.492813141684', '283', '49.3141683778234', '27.9856262833676',\n",
       "       '38', '7.6570841889117', '83.6550308008214', '10.9199178644764',\n",
       "       '162.328542094456', '37', '132.328542094456', '35.952772073922',\n",
       "       '165', '10.9856262833676', '20.1642710472279', '2.59137577002053',\n",
       "       '175', '180.985626283368', '10.3285420944559', '36.1642710472279',\n",
       "       '120.657084188912', '232', '152', '8.98562628336756', '167',\n",
       "       '11.0657084188912', '11.2032854209446', '5.19712525667351',\n",
       "       '3.16427104722793', '60.1642710472279', '1.18275154004107',\n",
       "       '21.1642710472279', '2.19712525667351', '4.19712525667351',\n",
       "       '2.62833675564682', '119.952772073922', '119.958932238193',\n",
       "       '9.49281314168378', '5.25667351129363', '15.3285420944559',\n",
       "       '2.82135523613963', '192.985626283368', '48.6570841889117',\n",
       "       '5.95687885010267', '2.29979466119097', '960', '2.36550308008214',\n",
       "       '116', '19.5133470225873', '1.6570841889117'], dtype=object)"
      ]
     },
     "execution_count": 25,
     "metadata": {},
     "output_type": "execute_result"
    }
   ],
   "source": [
    "df_justice['ImposedSentenceAllChargeInContactEvent'].unique() #Looking at the codebook we see that this is the sentence measured in months"
   ]
  },
  {
   "cell_type": "code",
   "execution_count": 26,
   "id": "4927ff60-9e74-48e2-8a07-3b36bbee1d7e",
   "metadata": {},
   "outputs": [
    {
     "data": {
      "text/plain": [
       "ImposedSentenceAllChargeInContactEvent\n",
       "No Data    9053\n",
       "0.0        5702\n",
       "12.0       1720\n",
       "1.0        1130\n",
       "3.0         905\n",
       "           ... \n",
       "518.0         1\n",
       "74.0          1\n",
       "207.0         1\n",
       "92.0          1\n",
       "116.0         1\n",
       "Name: count, Length: 234, dtype: int64"
      ]
     },
     "execution_count": 26,
     "metadata": {},
     "output_type": "execute_result"
    }
   ],
   "source": [
    "df_justice['ImposedSentenceAllChargeInContactEvent'] = pd.to_numeric(df_justice['ImposedSentenceAllChargeInContactEvent'], errors='coerce') #Casting the data to numeric, ensuring we are working with intergers and floats\n",
    "df_justice['ImposedSentenceAllChargeInContactEvent'] = df_justice['ImposedSentenceAllChargeInContactEvent'].round() #Rounding to the nearest whole number because the variable involves months, so it's unhelpful to have a bunch of trailing decimals\n",
    "df_justice['ImposedSentenceAllChargeInContactEvent']= df_justice['ImposedSentenceAllChargeInContactEvent'].replace(np.nan,'No Data') #Replacing nans with \"No Data\" in order to not loose information regarding other variables\n",
    "df_justice['ImposedSentenceAllChargeInContactEvent'].value_counts()"
   ]
  },
  {
   "cell_type": "markdown",
   "id": "5735a4d4-8be8-433a-a351-70eb8002e632",
   "metadata": {
    "id": "5735a4d4-8be8-433a-a351-70eb8002e632"
   },
   "source": [
    "**Q3.** Open the \"tidy_data.pdf\" document in the repo, which is a paper called Tidy Data by Hadley Wickham.\n",
    "\n",
    "  1. Read the abstract. What is this paper about?\n",
    "  2. Read the introduction. What is the \"tidy data standard\" intended to accomplish?\n",
    "  3. Read the intro to section 2. What does this sentence mean: \"Like families, tidy datasets are all alike but every messy dataset is messy in its own way.\" What does this sentence mean: \"For a given dataset, it’s usually easy to figure out what are observations and what are variables, but it is surprisingly difficult to precisely define variables and observations in general.\"\n",
    "  4. Read Section 2.2. How does Wickham define values, variables, and observations?\n",
    "  5. How is \"Tidy Data\" defined in section 2.3?\n",
    "  6. Read the intro to Section 3 and Section 3.1. What are the 5 most common problems with messy datasets? Why are the data in Table 4 messy? What is \"melting\" a dataset?\n",
    "  7. Why, specifically, is table 11 messy but table 12 tidy and \"molten\"?\n",
    "  8. Read Section 6. What is the \"chicken-and-egg\" problem with focusing on tidy data? What does Wickham hope happens in the future with further work on the subject of data wrangling?"
   ]
  },
  {
   "cell_type": "markdown",
   "id": "69ff1490-d335-450f-b5c0-ffb77fc241ca",
   "metadata": {},
   "source": [
    "### Answer\n",
    "1. This paper is about tidy data and common tools that can be used to clean large and messy data sets. I think it will address thing sthat can be used to streamline the tedious proccess of data cleaning. It may address tools that could be used universally to get started across different datasets.\n",
    "2. The tidy data standard makes cleaning easier and allows people to engage with and explore data more easily. It allows for the creation of data cleaning tools as well. This is especially helpful when dealing with real-life data.\n",
    "3. Tidy datasets present a sort of standardized structure that is true across all sets. At the same time, they aren't not entirely clean. From what I understand, tidy data is an initial step to exploration. It makes cleaning easier, but being tidy doesn't mean the data is clean. Therefore, once the data is tidy, steps are subjective to the dataset we are working with.\n",
    "4. Values are defined as numbers and strings that make up a dataset. Variables are the element in common being measured, the independent variable. Observations are the rest of the attributes being measured on that specific variable, they are \"values measured on the same unit.\"\n",
    "5. In tidy data sets each variable creates a column, each observation maps a row, and the observational unit types make up a table.\n",
    "6. Column headers are values and not variable names, multiple variables are being store in one column (should be one variable per column), variables are stored in columns and rows (they should be mapping columns), multiple types of different observational units are being stored in the same table, and conversely, a single observational unit being stored across multiple tables. Table 4 is a tabular dataset, it's columns are headed by values not variable names and variables are forming both the rows and the columns. Melting a dataset is turning columns into rows since they are formed by variables and not observations. Frequency is being determined by religion and income here. We want to be able to observe these separately across columns mapped to the specific variables. So, we stack the columns on top of each other to create rows (values are stack on top of each other and other variables are repeated when needed according to toy dataset).\n",
    "7. Table 11 is tabular, with a column for each day in the month. When the data is tidied this is stacked into a date column, and then the data is moltened so that tmax and tmin are also columns of their own, that relate to the date based on their rows/observations.\n",
    "8. The \"chicken-egg problem\" refers to the tools that are used with tidy data and the tidy data itself. Tidy data is not as helpful without the tools that work with it, and the tools cannot be used without tidy data. These things are mutuallly dependent. There is not much wiggle room with this tidy standard for anything to further change."
   ]
  },
  {
   "cell_type": "markdown",
   "id": "5a60a44e",
   "metadata": {},
   "source": [
    "**Q2.** Go to https://sharkattackfile.net/ and download their dataset on shark attacks.\n",
    "\n",
    "1. Open the shark attack file using Pandas. It is probably not a csv file, so `read_csv` won't work.\n",
    "2. Drop any columns that do not contain data.\n",
    "3. Clean the year variable. Describe the range of values you see. Filter the rows to focus on attacks since 1940. Are attacks increasing, decreasing, or remaining constant over time?\n",
    "4. Clean the Age variable and make a histogram of the ages of the victims.\n",
    "5. What proportion of victims are male?\n",
    "6. Clean the `Type` variable so it only takes three values: Provoked and Unprovoked and Unknown. What proportion of attacks are unprovoked?\n",
    "7. Clean the `Fatal Y/N` variable so it only takes three values: Y, N, and Unknown.\n",
    "8. Are sharks more likely to launch unprovoked attacks on men or women? Is the attack more or less likely to be fatal when the attack is provoked or unprovoked? Is it more or less likely to be fatal when the victim is male or female? How do you feel about sharks?\n",
    "9. What proportion of attacks appear to be by white sharks? (Hint: `str.split()` makes a vector of text values into a list of lists, split by spaces.)"
   ]
  },
  {
   "cell_type": "code",
   "execution_count": 124,
   "id": "e8ea1310-e1e7-479c-85ae-0bf76e2696e3",
   "metadata": {},
   "outputs": [
    {
     "name": "stdout",
     "output_type": "stream",
     "text": [
      "Requirement already satisfied: xlrd in c:\\users\\gates\\anaconda3\\lib\\site-packages (2.0.1)\n",
      "Note: you may need to restart the kernel to use updated packages.\n"
     ]
    }
   ],
   "source": [
    "pip install xlrd "
   ]
  },
  {
   "cell_type": "code",
   "execution_count": 126,
   "id": "113d05f1-981a-437c-89fb-5c62407d79cb",
   "metadata": {},
   "outputs": [],
   "source": [
    "#Installing the engine needed to read this old version of an excel file, https://xlrd.readthedocs.io/en/latest/"
   ]
  },
  {
   "cell_type": "code",
   "execution_count": 128,
   "id": "a648cf47-2f60-4cfd-a5f4-c44e4a8e0a70",
   "metadata": {},
   "outputs": [],
   "source": [
    "df_shark= pd.read_excel('C:/Users/gates/Downloads/GSAF5.xls', engine='xlrd') #Reading in the shark attack excel file"
   ]
  },
  {
   "cell_type": "code",
   "execution_count": 130,
   "id": "9d81ca3d-75cb-4370-9a2b-72ce585b896c",
   "metadata": {},
   "outputs": [
    {
     "data": {
      "text/html": [
       "<div>\n",
       "<style scoped>\n",
       "    .dataframe tbody tr th:only-of-type {\n",
       "        vertical-align: middle;\n",
       "    }\n",
       "\n",
       "    .dataframe tbody tr th {\n",
       "        vertical-align: top;\n",
       "    }\n",
       "\n",
       "    .dataframe thead th {\n",
       "        text-align: right;\n",
       "    }\n",
       "</style>\n",
       "<table border=\"1\" class=\"dataframe\">\n",
       "  <thead>\n",
       "    <tr style=\"text-align: right;\">\n",
       "      <th></th>\n",
       "      <th>Date</th>\n",
       "      <th>Year</th>\n",
       "      <th>Type</th>\n",
       "      <th>Country</th>\n",
       "      <th>State</th>\n",
       "      <th>Location</th>\n",
       "      <th>Activity</th>\n",
       "      <th>Name</th>\n",
       "      <th>Sex</th>\n",
       "      <th>Age</th>\n",
       "      <th>...</th>\n",
       "      <th>Species</th>\n",
       "      <th>Source</th>\n",
       "      <th>pdf</th>\n",
       "      <th>href formula</th>\n",
       "      <th>href</th>\n",
       "      <th>Case Number</th>\n",
       "      <th>Case Number.1</th>\n",
       "      <th>original order</th>\n",
       "      <th>Unnamed: 21</th>\n",
       "      <th>Unnamed: 22</th>\n",
       "    </tr>\n",
       "  </thead>\n",
       "  <tbody>\n",
       "    <tr>\n",
       "      <th>0</th>\n",
       "      <td>2025-01-23 00:00:00</td>\n",
       "      <td>2025.0</td>\n",
       "      <td>Unprovoked</td>\n",
       "      <td>Australia</td>\n",
       "      <td>Western Australia</td>\n",
       "      <td>Shipwreck Cove</td>\n",
       "      <td>Bathing</td>\n",
       "      <td>Boy</td>\n",
       "      <td>M</td>\n",
       "      <td>12</td>\n",
       "      <td>...</td>\n",
       "      <td>Not stated</td>\n",
       "      <td>Bob Myatt GSAF</td>\n",
       "      <td>NaN</td>\n",
       "      <td>NaN</td>\n",
       "      <td>NaN</td>\n",
       "      <td>NaN</td>\n",
       "      <td>NaN</td>\n",
       "      <td>NaN</td>\n",
       "      <td>NaN</td>\n",
       "      <td>NaN</td>\n",
       "    </tr>\n",
       "    <tr>\n",
       "      <th>1</th>\n",
       "      <td>2025-01-22 00:00:00</td>\n",
       "      <td>2025.0</td>\n",
       "      <td>Unprovoked</td>\n",
       "      <td>Australia</td>\n",
       "      <td>Western Australia</td>\n",
       "      <td>Cheynes beach</td>\n",
       "      <td>Surfing</td>\n",
       "      <td>Dale Kittow</td>\n",
       "      <td>M</td>\n",
       "      <td>37</td>\n",
       "      <td>...</td>\n",
       "      <td>Bronze whaler</td>\n",
       "      <td>Bob Myatt GSAF</td>\n",
       "      <td>NaN</td>\n",
       "      <td>NaN</td>\n",
       "      <td>NaN</td>\n",
       "      <td>NaN</td>\n",
       "      <td>NaN</td>\n",
       "      <td>NaN</td>\n",
       "      <td>NaN</td>\n",
       "      <td>NaN</td>\n",
       "    </tr>\n",
       "    <tr>\n",
       "      <th>2</th>\n",
       "      <td>2025-01-11 00:00:00</td>\n",
       "      <td>2025.0</td>\n",
       "      <td>Provoked</td>\n",
       "      <td>USA</td>\n",
       "      <td>Hawaii</td>\n",
       "      <td>Off Haleiwa Boat Harbour Oahu</td>\n",
       "      <td>Diving</td>\n",
       "      <td>Male not stated was a dive tour worker</td>\n",
       "      <td>M</td>\n",
       "      <td>23</td>\n",
       "      <td>...</td>\n",
       "      <td>Not stated</td>\n",
       "      <td>Kevin McMurray Trackingsharks.com</td>\n",
       "      <td>NaN</td>\n",
       "      <td>NaN</td>\n",
       "      <td>NaN</td>\n",
       "      <td>NaN</td>\n",
       "      <td>NaN</td>\n",
       "      <td>NaN</td>\n",
       "      <td>NaN</td>\n",
       "      <td>NaN</td>\n",
       "    </tr>\n",
       "    <tr>\n",
       "      <th>3</th>\n",
       "      <td>2025-01-02 00:00:00</td>\n",
       "      <td>2025.0</td>\n",
       "      <td>Unprovoked</td>\n",
       "      <td>New Caledonia</td>\n",
       "      <td>Grande Terre</td>\n",
       "      <td>Islet of Kendek near Koumac</td>\n",
       "      <td>Spearfishing</td>\n",
       "      <td>Robert Cuewapuru</td>\n",
       "      <td>M</td>\n",
       "      <td>40</td>\n",
       "      <td>...</td>\n",
       "      <td>Reportedly Tiger or Bull shark</td>\n",
       "      <td>Johannes Marchand Todd Smith</td>\n",
       "      <td>NaN</td>\n",
       "      <td>NaN</td>\n",
       "      <td>NaN</td>\n",
       "      <td>NaN</td>\n",
       "      <td>NaN</td>\n",
       "      <td>NaN</td>\n",
       "      <td>NaN</td>\n",
       "      <td>NaN</td>\n",
       "    </tr>\n",
       "    <tr>\n",
       "      <th>4</th>\n",
       "      <td>2025-01-02 00:00:00</td>\n",
       "      <td>2025.0</td>\n",
       "      <td>Unprovoked</td>\n",
       "      <td>Australia</td>\n",
       "      <td>South Australia</td>\n",
       "      <td>Granites Beach near Westall Streaky Bay</td>\n",
       "      <td>Surfing</td>\n",
       "      <td>Lance Appleby</td>\n",
       "      <td>M</td>\n",
       "      <td>28</td>\n",
       "      <td>...</td>\n",
       "      <td>Great White Shart estimated 4.8m 16 ft</td>\n",
       "      <td>Glen Folkard: Simon De Marchi News.com.au: The...</td>\n",
       "      <td>NaN</td>\n",
       "      <td>NaN</td>\n",
       "      <td>NaN</td>\n",
       "      <td>NaN</td>\n",
       "      <td>NaN</td>\n",
       "      <td>NaN</td>\n",
       "      <td>NaN</td>\n",
       "      <td>NaN</td>\n",
       "    </tr>\n",
       "  </tbody>\n",
       "</table>\n",
       "<p>5 rows × 23 columns</p>\n",
       "</div>"
      ],
      "text/plain": [
       "                  Date    Year        Type        Country              State  \\\n",
       "0  2025-01-23 00:00:00  2025.0  Unprovoked      Australia  Western Australia   \n",
       "1  2025-01-22 00:00:00  2025.0  Unprovoked      Australia  Western Australia   \n",
       "2  2025-01-11 00:00:00  2025.0    Provoked            USA             Hawaii   \n",
       "3  2025-01-02 00:00:00  2025.0  Unprovoked  New Caledonia       Grande Terre   \n",
       "4  2025-01-02 00:00:00  2025.0  Unprovoked      Australia    South Australia   \n",
       "\n",
       "                                  Location      Activity  \\\n",
       "0                           Shipwreck Cove       Bathing   \n",
       "1                           Cheynes beach        Surfing   \n",
       "2            Off Haleiwa Boat Harbour Oahu        Diving   \n",
       "3              Islet of Kendek near Koumac  Spearfishing   \n",
       "4  Granites Beach near Westall Streaky Bay       Surfing   \n",
       "\n",
       "                                     Name Sex Age  ...  \\\n",
       "0                                    Boy    M  12  ...   \n",
       "1                             Dale Kittow   M  37  ...   \n",
       "2  Male not stated was a dive tour worker   M  23  ...   \n",
       "3                        Robert Cuewapuru   M  40  ...   \n",
       "4                           Lance Appleby   M  28  ...   \n",
       "\n",
       "                                 Species   \\\n",
       "0                              Not stated   \n",
       "1                           Bronze whaler   \n",
       "2                              Not stated   \n",
       "3          Reportedly Tiger or Bull shark   \n",
       "4  Great White Shart estimated 4.8m 16 ft   \n",
       "\n",
       "                                              Source  pdf href formula href  \\\n",
       "0                                     Bob Myatt GSAF  NaN          NaN  NaN   \n",
       "1                                     Bob Myatt GSAF  NaN          NaN  NaN   \n",
       "2                  Kevin McMurray Trackingsharks.com  NaN          NaN  NaN   \n",
       "3                      Johannes Marchand Todd Smith   NaN          NaN  NaN   \n",
       "4  Glen Folkard: Simon De Marchi News.com.au: The...  NaN          NaN  NaN   \n",
       "\n",
       "  Case Number Case Number.1 original order Unnamed: 21 Unnamed: 22  \n",
       "0         NaN           NaN            NaN         NaN         NaN  \n",
       "1         NaN           NaN            NaN         NaN         NaN  \n",
       "2         NaN           NaN            NaN         NaN         NaN  \n",
       "3         NaN           NaN            NaN         NaN         NaN  \n",
       "4         NaN           NaN            NaN         NaN         NaN  \n",
       "\n",
       "[5 rows x 23 columns]"
      ]
     },
     "execution_count": 130,
     "metadata": {},
     "output_type": "execute_result"
    }
   ],
   "source": [
    "df_shark.head()"
   ]
  },
  {
   "cell_type": "code",
   "execution_count": 33,
   "id": "981f31b9-524d-4d11-89b6-67c41e840462",
   "metadata": {},
   "outputs": [
    {
     "name": "stdout",
     "output_type": "stream",
     "text": [
      "Date                 0\n",
      "Year                 2\n",
      "Type                18\n",
      "Country             50\n",
      "State              482\n",
      "Location           565\n",
      "Activity           585\n",
      "Name               219\n",
      "Sex                579\n",
      "Age               2994\n",
      "Injury              35\n",
      "Fatal Y/N          561\n",
      "Time              3526\n",
      "Species           3132\n",
      "Source              19\n",
      "pdf                193\n",
      "href formula       198\n",
      "href               196\n",
      "Case Number        194\n",
      "Case Number.1      195\n",
      "original order     193\n",
      "Unnamed: 21       6991\n",
      "Unnamed: 22       6990\n",
      "dtype: int64\n"
     ]
    },
    {
     "data": {
      "text/plain": [
       "6992"
      ]
     },
     "execution_count": 33,
     "metadata": {},
     "output_type": "execute_result"
    }
   ],
   "source": [
    "print(df_shark.isna().sum()) #checking counts of nans in each column of the data frame\n",
    "len(df_shark) #counting the total number of rows"
   ]
  },
  {
   "cell_type": "code",
   "execution_count": 34,
   "id": "1ba38bf0-5c92-4010-989e-0ba93101ba82",
   "metadata": {
    "scrolled": true
   },
   "outputs": [],
   "source": [
    "df_shark= df_shark.drop(columns=['Unnamed: 21', 'Unnamed: 22']) #Dropping the columns with nans equaling or reaching that of the total length of the data frame, meaning there is no data in these columns"
   ]
  },
  {
   "cell_type": "code",
   "execution_count": 35,
   "id": "6407897b-3678-4962-921c-412f78667436",
   "metadata": {},
   "outputs": [],
   "source": [
    "df_shark['Year'] = pd.to_numeric(df_shark['Year'], errors='coerce') #Casting the Year data to numeric, this makes it easier to work with and conduct analysis\n",
    "df_shark[df_shark['Year'] == 0] #Understanding what year 0 means, we see it's being used as a placeholder for all BC values\n",
    "df_shark['Year']= df_shark['Year'].replace(0,np.nan) #Replacing the place holder 0 with a missing value, depending on the analysis we are conducting there are different ways to handle this. I made the data integers, but if I were to make them objects I could put 'B.C.'"
   ]
  },
  {
   "cell_type": "code",
   "execution_count": 36,
   "id": "d6d0d87e-93c3-4ba8-b9dd-57dfdc10282a",
   "metadata": {},
   "outputs": [
    {
     "data": {
      "text/plain": [
       "Year\n",
       "2015.0    143\n",
       "2017.0    140\n",
       "2016.0    131\n",
       "2011.0    128\n",
       "2014.0    126\n",
       "         ... \n",
       "1786.0      1\n",
       "1785.0      1\n",
       "1784.0      1\n",
       "1783.0      1\n",
       "5.0         1\n",
       "Name: count, Length: 260, dtype: int64"
      ]
     },
     "execution_count": 36,
     "metadata": {},
     "output_type": "execute_result"
    }
   ],
   "source": [
    "df_shark['Year'].value_counts()"
   ]
  },
  {
   "cell_type": "code",
   "execution_count": 37,
   "id": "885fba27-a2ce-4af3-b4f7-ff865b725cea",
   "metadata": {},
   "outputs": [
    {
     "data": {
      "text/html": [
       "<div>\n",
       "<style scoped>\n",
       "    .dataframe tbody tr th:only-of-type {\n",
       "        vertical-align: middle;\n",
       "    }\n",
       "\n",
       "    .dataframe tbody tr th {\n",
       "        vertical-align: top;\n",
       "    }\n",
       "\n",
       "    .dataframe thead th {\n",
       "        text-align: right;\n",
       "    }\n",
       "</style>\n",
       "<table border=\"1\" class=\"dataframe\">\n",
       "  <thead>\n",
       "    <tr style=\"text-align: right;\">\n",
       "      <th></th>\n",
       "      <th>Year</th>\n",
       "      <th>original order</th>\n",
       "    </tr>\n",
       "  </thead>\n",
       "  <tbody>\n",
       "    <tr>\n",
       "      <th>count</th>\n",
       "      <td>6861.000000</td>\n",
       "      <td>6799.000000</td>\n",
       "    </tr>\n",
       "    <tr>\n",
       "      <th>mean</th>\n",
       "      <td>1971.400670</td>\n",
       "      <td>3401.152081</td>\n",
       "    </tr>\n",
       "    <tr>\n",
       "      <th>std</th>\n",
       "      <td>60.721007</td>\n",
       "      <td>1963.076319</td>\n",
       "    </tr>\n",
       "    <tr>\n",
       "      <th>min</th>\n",
       "      <td>5.000000</td>\n",
       "      <td>2.000000</td>\n",
       "    </tr>\n",
       "    <tr>\n",
       "      <th>25%</th>\n",
       "      <td>1950.000000</td>\n",
       "      <td>1701.500000</td>\n",
       "    </tr>\n",
       "    <tr>\n",
       "      <th>50%</th>\n",
       "      <td>1987.000000</td>\n",
       "      <td>3401.000000</td>\n",
       "    </tr>\n",
       "    <tr>\n",
       "      <th>75%</th>\n",
       "      <td>2010.000000</td>\n",
       "      <td>5100.500000</td>\n",
       "    </tr>\n",
       "    <tr>\n",
       "      <th>max</th>\n",
       "      <td>2026.000000</td>\n",
       "      <td>6802.000000</td>\n",
       "    </tr>\n",
       "  </tbody>\n",
       "</table>\n",
       "</div>"
      ],
      "text/plain": [
       "              Year  original order\n",
       "count  6861.000000     6799.000000\n",
       "mean   1971.400670     3401.152081\n",
       "std      60.721007     1963.076319\n",
       "min       5.000000        2.000000\n",
       "25%    1950.000000     1701.500000\n",
       "50%    1987.000000     3401.000000\n",
       "75%    2010.000000     5100.500000\n",
       "max    2026.000000     6802.000000"
      ]
     },
     "execution_count": 37,
     "metadata": {},
     "output_type": "execute_result"
    }
   ],
   "source": [
    "df_shark.describe() #Making sure the missing values were added in place of the 0 placeholder (this placeholder could create a lot of issues and biases in statistical analysis)"
   ]
  },
  {
   "cell_type": "markdown",
   "id": "0e79278c-02dc-423a-a089-5e3df84d1c15",
   "metadata": {},
   "source": [
    "#### Description\n",
    "After cleaning the data and changing the type of variable we see in the year column from float to integer, we see that the values of the years range from 5 AD to 2026."
   ]
  },
  {
   "cell_type": "code",
   "execution_count": 39,
   "id": "c7830344-0704-4419-8971-d3f4121d7b9b",
   "metadata": {},
   "outputs": [
    {
     "data": {
      "text/plain": [
       "Text(0.5, 1.0, 'Shark Attacks by Year')"
      ]
     },
     "execution_count": 39,
     "metadata": {},
     "output_type": "execute_result"
    },
    {
     "data": {
      "image/png": "[encoded data removed]",
      "text/plain": [
       "<Figure size 640x480 with 1 Axes>"
      ]
     },
     "metadata": {},
     "output_type": "display_data"
    }
   ],
   "source": [
    "df_filtered = df_shark[df_shark['Year'] >= 1940] #Filtering the shark dataframe to include only attacks in and after 1940\n",
    "df_filtered['Year'].hist(bins=18, edgecolor='Black') #Changing the aesthetics of the bins so that they are easier to view\n",
    "plt.title('Shark Attacks by Year') #Adding a title"
   ]
  },
  {
   "cell_type": "markdown",
   "id": "f10ccc28-24a8-4447-893b-2f8450f91b83",
   "metadata": {},
   "source": [
    "#### Answer\n",
    "It seems the number of shark attacks has increased from 1940 onward."
   ]
  },
  {
   "cell_type": "code",
   "execution_count": 41,
   "id": "9e6b61f0-69ae-4b6e-bc6f-93b18dfd97f3",
   "metadata": {},
   "outputs": [
    {
     "data": {
      "text/plain": [
       "array([12., 37., 23., 40., 28., 69., 48., nan, 57., 24., 45., 61., 27.,\n",
       "       38., 16., 33., 30., 15., 41., 14., 26., 18., 21., 49., 25., 46.,\n",
       "       19., 20., 65., 64., 13., 11., 32., 29., 10., 62., 39., 22., 66.,\n",
       "       52., 44., 47., 55., 59.,  8., 50., 34.,  9., 35., 77., 60., 42.,\n",
       "       73., 58., 67., 17.,  6., 53., 68., 43., 51., 31., 56., 36.,  7.,\n",
       "       71., 54., 75., 70.,  4., 63., 74.,  3., 82., 72.,  5., 86., 84.,\n",
       "       87.,  1., 81., 78.])"
      ]
     },
     "execution_count": 41,
     "metadata": {},
     "output_type": "execute_result"
    }
   ],
   "source": [
    "df_shark['Age'].value_counts() #Looking at the age column\n",
    "df_shark['Age'] = pd.to_numeric(df_shark['Age'], errors='coerce') #Casting this variable to numeric to eventually create a histogram\n",
    "df_hist_age= df_shark['Age'].dropna() #Creating a new dataframe where the nans are dropped, this will preserve data in my original df_shark df (as floats)\n",
    "df_shark['Age'].unique()"
   ]
  },
  {
   "cell_type": "code",
   "execution_count": 42,
   "id": "a51bd4c7-9d5e-436e-b9f4-d226dde4f78d",
   "metadata": {},
   "outputs": [
    {
     "data": {
      "text/plain": [
       "Text(0.5, 1.0, 'Shark Attack Victim Ages')"
      ]
     },
     "execution_count": 42,
     "metadata": {},
     "output_type": "execute_result"
    },
    {
     "data": {
      "image/png": "[encoded data removed]",
      "text/plain": [
       "<Figure size 640x480 with 1 Axes>"
      ]
     },
     "metadata": {},
     "output_type": "display_data"
    }
   ],
   "source": [
    "df_hist_age.hist(bins=15, edgecolor='Black')\n",
    "plt.title('Shark Attack Victim Ages')"
   ]
  },
  {
   "cell_type": "code",
   "execution_count": 43,
   "id": "a8ac1fb3-9ed9-4d23-8ff9-e325c7db4e0f",
   "metadata": {},
   "outputs": [],
   "source": [
    "df_shark['Sex'].unique() #Looking at all of the values in this column to examine how to clean\n",
    "df_shark['Sex']= df_shark['Sex'].replace([' M','M ','M x 2'],'M') #replacing weirdly spaced 'Ms' previously observed with 'M'\n",
    "df_shark['Sex']= df_shark['Sex'].replace([np.nan,'lli', '.','N'],'Unknown') #replacing missing and odd values with 'Unknown'"
   ]
  },
  {
   "cell_type": "code",
   "execution_count": 44,
   "id": "0908dbbc-562e-44a2-b4d5-a4b64e9a0d50",
   "metadata": {},
   "outputs": [
    {
     "data": {
      "text/plain": [
       "Sex\n",
       "M          5617\n",
       "F           792\n",
       "Unknown     583\n",
       "Name: count, dtype: int64"
      ]
     },
     "execution_count": 44,
     "metadata": {},
     "output_type": "execute_result"
    }
   ],
   "source": [
    "df_shark['Sex'].value_counts() #Making sure the replacements were successful"
   ]
  },
  {
   "cell_type": "code",
   "execution_count": 45,
   "id": "d6ef5381-c854-4d0d-bd46-6b5dd79df981",
   "metadata": {},
   "outputs": [
    {
     "name": "stdout",
     "output_type": "stream",
     "text": [
      "0.8033466819221968\n"
     ]
    }
   ],
   "source": [
    "df_m_shark = df_shark[df_shark['Sex'] == 'M'] #Filtering males from the dataframe\n",
    "print(len(df_m_shark)/len(df_shark)) #Dividing male cases by total cases based on the number of total rows (includes, unknowns, males, females) to find proportion of male shark attacks"
   ]
  },
  {
   "cell_type": "markdown",
   "id": "90addc3c-9774-4dad-ab93-4843e0553e25",
   "metadata": {},
   "source": [
    "0.8033 of shark attacks happen to males!"
   ]
  },
  {
   "cell_type": "code",
   "execution_count": 47,
   "id": "fdc86bc3-f691-4248-9c63-9a4a908eb90f",
   "metadata": {},
   "outputs": [],
   "source": [
    "df_shark['Type'].unique() #Looking at values in the Type column\n",
    "df_shark['Type']= df_shark['Type'].replace(['Questionable', 'Watercraft','Sea Disaster', '?','Invalid', 'Under investigation','Unconfirmed','Unverified','Boat'], 'Unknown') #Replacing anything that isn't provoked or unprovoked with unknown\n",
    "df_shark['Type']= df_shark['Type'].replace(' Provoked','Provoked')"
   ]
  },
  {
   "cell_type": "code",
   "execution_count": 48,
   "id": "41ff1b99-f144-4899-b42d-c652c041dee7",
   "metadata": {},
   "outputs": [
    {
     "data": {
      "text/plain": [
       "Type\n",
       "Unprovoked    5153\n",
       "Unknown       1182\n",
       "Provoked       639\n",
       "Name: count, dtype: int64"
      ]
     },
     "execution_count": 48,
     "metadata": {},
     "output_type": "execute_result"
    }
   ],
   "source": [
    "df_shark['Type'].value_counts() #Checking values after this cleaning"
   ]
  },
  {
   "cell_type": "code",
   "execution_count": 49,
   "id": "18b3b55f-9736-4ea3-9f7d-326d2c597be8",
   "metadata": {},
   "outputs": [
    {
     "data": {
      "text/plain": [
       "Type\n",
       "Unprovoked    5153\n",
       "Unknown       1200\n",
       "Provoked       639\n",
       "Name: count, dtype: int64"
      ]
     },
     "execution_count": 49,
     "metadata": {},
     "output_type": "execute_result"
    }
   ],
   "source": [
    "df_shark['Type'].value_counts(dropna=False) #Looking for nans\n",
    "df_shark['Type'] = df_shark['Type'].fillna('Unknown') #Imputing 'Unknown' to replace them as well\n",
    "df_shark['Type'].value_counts(dropna=False) #Verifying the success of this"
   ]
  },
  {
   "cell_type": "code",
   "execution_count": 50,
   "id": "b1e612a4-d79c-40aa-94f8-466baead4043",
   "metadata": {},
   "outputs": [
    {
     "data": {
      "text/plain": [
       "0.7369851258581236"
      ]
     },
     "execution_count": 50,
     "metadata": {},
     "output_type": "execute_result"
    }
   ],
   "source": [
    "len(df_shark[df_shark['Type'] == 'Unprovoked'])/len(df_shark['Type']) #Filtering unprovoked attacks and dividing by total number of attacks to find that 73.7% of reported shark attacks are known to be unprovoked!"
   ]
  },
  {
   "cell_type": "code",
   "execution_count": 51,
   "id": "be980227-62b0-4ebf-baa9-acdcc728fde1",
   "metadata": {},
   "outputs": [
    {
     "data": {
      "text/plain": [
       "Fatal Y/N\n",
       "N          4872\n",
       "Y          1468\n",
       "UNKNOWN      71\n",
       " N            7\n",
       "F             4\n",
       "M             3\n",
       "n             1\n",
       "Nq            1\n",
       "2017          1\n",
       "Y x 2         1\n",
       "N             1\n",
       "y             1\n",
       "Name: count, dtype: int64"
      ]
     },
     "execution_count": 51,
     "metadata": {},
     "output_type": "execute_result"
    }
   ],
   "source": [
    "df_shark['Fatal Y/N'].value_counts() #Examining the 'Fatal Y/N' column"
   ]
  },
  {
   "cell_type": "code",
   "execution_count": 52,
   "id": "9762c0c7-8d29-4a3a-ac10-06a4da193d6e",
   "metadata": {},
   "outputs": [
    {
     "data": {
      "text/plain": [
       "Fatal Y/N\n",
       "N          4880\n",
       "Y          1470\n",
       "Unknown      81\n",
       "Name: count, dtype: int64"
      ]
     },
     "execution_count": 52,
     "metadata": {},
     "output_type": "execute_result"
    }
   ],
   "source": [
    "df_shark['Fatal Y/N']= df_shark['Fatal Y/N'].replace([' N','N '],'N') #replacing the 'Ns' with off spacing with properly spaced 'N'\n",
    "df_shark['Fatal Y/N']= df_shark['Fatal Y/N'].replace(['Y x 2', 'y'],'Y') #reaplcing the lowercase y case with 'Y'\n",
    "df_shark['Fatal Y/N']= df_shark['Fatal Y/N'].replace(['F','M',2017,'n','Nq','UNKNOWN'],'Unknown') #Replacing values that don't align with a Y/N response with 'Unknown'\n",
    "df_shark['Fatal Y/N'].value_counts() #Checking these steps"
   ]
  },
  {
   "cell_type": "code",
   "execution_count": 53,
   "id": "74a2d6b8-f23c-4db7-8715-89477695d400",
   "metadata": {},
   "outputs": [
    {
     "data": {
      "text/html": [
       "<div>\n",
       "<style scoped>\n",
       "    .dataframe tbody tr th:only-of-type {\n",
       "        vertical-align: middle;\n",
       "    }\n",
       "\n",
       "    .dataframe tbody tr th {\n",
       "        vertical-align: top;\n",
       "    }\n",
       "\n",
       "    .dataframe thead th {\n",
       "        text-align: right;\n",
       "    }\n",
       "</style>\n",
       "<table border=\"1\" class=\"dataframe\">\n",
       "  <thead>\n",
       "    <tr style=\"text-align: right;\">\n",
       "      <th>Type</th>\n",
       "      <th>Provoked</th>\n",
       "      <th>Unknown</th>\n",
       "      <th>Unprovoked</th>\n",
       "    </tr>\n",
       "    <tr>\n",
       "      <th>Sex</th>\n",
       "      <th></th>\n",
       "      <th></th>\n",
       "      <th></th>\n",
       "    </tr>\n",
       "  </thead>\n",
       "  <tbody>\n",
       "    <tr>\n",
       "      <th>F</th>\n",
       "      <td>31</td>\n",
       "      <td>91</td>\n",
       "      <td>670</td>\n",
       "    </tr>\n",
       "    <tr>\n",
       "      <th>M</th>\n",
       "      <td>548</td>\n",
       "      <td>755</td>\n",
       "      <td>4314</td>\n",
       "    </tr>\n",
       "    <tr>\n",
       "      <th>Unknown</th>\n",
       "      <td>60</td>\n",
       "      <td>354</td>\n",
       "      <td>169</td>\n",
       "    </tr>\n",
       "  </tbody>\n",
       "</table>\n",
       "</div>"
      ],
      "text/plain": [
       "Type     Provoked  Unknown  Unprovoked\n",
       "Sex                                   \n",
       "F              31       91         670\n",
       "M             548      755        4314\n",
       "Unknown        60      354         169"
      ]
     },
     "execution_count": 53,
     "metadata": {},
     "output_type": "execute_result"
    }
   ],
   "source": [
    "pd.crosstab(df_shark['Sex'], df_shark['Type']) #Cross tabulating sex and type of attack to examine relationships between the two variables"
   ]
  },
  {
   "cell_type": "code",
   "execution_count": 54,
   "id": "1e16a935-e584-41a3-ad83-3283ea659877",
   "metadata": {},
   "outputs": [],
   "source": [
    "# After cross tabulating and comparing, we can see that unnprovoked attacks are more common in men"
   ]
  },
  {
   "cell_type": "code",
   "execution_count": 55,
   "id": "d5e59185-f1b1-445e-a132-dc3fcdb30bd6",
   "metadata": {},
   "outputs": [
    {
     "data": {
      "text/html": [
       "<div>\n",
       "<style scoped>\n",
       "    .dataframe tbody tr th:only-of-type {\n",
       "        vertical-align: middle;\n",
       "    }\n",
       "\n",
       "    .dataframe tbody tr th {\n",
       "        vertical-align: top;\n",
       "    }\n",
       "\n",
       "    .dataframe thead th {\n",
       "        text-align: right;\n",
       "    }\n",
       "</style>\n",
       "<table border=\"1\" class=\"dataframe\">\n",
       "  <thead>\n",
       "    <tr style=\"text-align: right;\">\n",
       "      <th>Type</th>\n",
       "      <th>Provoked</th>\n",
       "      <th>Unknown</th>\n",
       "      <th>Unprovoked</th>\n",
       "    </tr>\n",
       "    <tr>\n",
       "      <th>Fatal Y/N</th>\n",
       "      <th></th>\n",
       "      <th></th>\n",
       "      <th></th>\n",
       "    </tr>\n",
       "  </thead>\n",
       "  <tbody>\n",
       "    <tr>\n",
       "      <th>N</th>\n",
       "      <td>608</td>\n",
       "      <td>449</td>\n",
       "      <td>3823</td>\n",
       "    </tr>\n",
       "    <tr>\n",
       "      <th>Unknown</th>\n",
       "      <td>6</td>\n",
       "      <td>14</td>\n",
       "      <td>61</td>\n",
       "    </tr>\n",
       "    <tr>\n",
       "      <th>Y</th>\n",
       "      <td>21</td>\n",
       "      <td>197</td>\n",
       "      <td>1252</td>\n",
       "    </tr>\n",
       "  </tbody>\n",
       "</table>\n",
       "</div>"
      ],
      "text/plain": [
       "Type       Provoked  Unknown  Unprovoked\n",
       "Fatal Y/N                               \n",
       "N               608      449        3823\n",
       "Unknown           6       14          61\n",
       "Y                21      197        1252"
      ]
     },
     "execution_count": 55,
     "metadata": {},
     "output_type": "execute_result"
    }
   ],
   "source": [
    "pd.crosstab(df_shark['Fatal Y/N'],df_shark['Type']) #Cross tabulating to see the relationship between the type of attack and subsequent fatality and survival rates"
   ]
  },
  {
   "cell_type": "code",
   "execution_count": 56,
   "id": "ff0b076f-9c92-48fb-aec6-168eaf6bdac3",
   "metadata": {},
   "outputs": [
    {
     "data": {
      "text/plain": [
       "0.29848484848484846"
      ]
     },
     "execution_count": 56,
     "metadata": {},
     "output_type": "execute_result"
    }
   ],
   "source": [
    "197/(449+14+197) #Proportion of fatality in attacks categorized as Unknown (in terms of type)"
   ]
  },
  {
   "cell_type": "code",
   "execution_count": 57,
   "id": "ccebdfd0-fed2-4a99-b201-6157b1ef2527",
   "metadata": {},
   "outputs": [
    {
     "data": {
      "text/plain": [
       "0.24376947040498442"
      ]
     },
     "execution_count": 57,
     "metadata": {},
     "output_type": "execute_result"
    }
   ],
   "source": [
    "1252/(3823+61+1252) #Proportion of fatal unprovoked attacks"
   ]
  },
  {
   "cell_type": "code",
   "execution_count": 58,
   "id": "9e92bbce-af34-4bf9-9e83-51573f67fbc2",
   "metadata": {},
   "outputs": [
    {
     "data": {
      "text/plain": [
       "0.03307086614173228"
      ]
     },
     "execution_count": 58,
     "metadata": {},
     "output_type": "execute_result"
    }
   ],
   "source": [
    "21/(21+6+608) #Proportion of fatal provoked attacks"
   ]
  },
  {
   "cell_type": "markdown",
   "id": "405e2856-dbea-4f06-bc81-fc7e03426fe5",
   "metadata": {},
   "source": [
    "We can see from the data that unprovoked attacks have a higher chance of mortality. We found the proportions in relation to total attacks in each category. This makes sense, for provoked attacks involve a person who is more aware, and perhaps they have some medical training or background knowledge. The unknown category actually has the highest mortality rate, but this isn't a concrete category for this analysis."
   ]
  },
  {
   "cell_type": "code",
   "execution_count": 60,
   "id": "b7cea49c-159c-4ed8-94a8-333a44b264ad",
   "metadata": {},
   "outputs": [
    {
     "data": {
      "text/html": [
       "<div>\n",
       "<style scoped>\n",
       "    .dataframe tbody tr th:only-of-type {\n",
       "        vertical-align: middle;\n",
       "    }\n",
       "\n",
       "    .dataframe tbody tr th {\n",
       "        vertical-align: top;\n",
       "    }\n",
       "\n",
       "    .dataframe thead th {\n",
       "        text-align: right;\n",
       "    }\n",
       "</style>\n",
       "<table border=\"1\" class=\"dataframe\">\n",
       "  <thead>\n",
       "    <tr style=\"text-align: right;\">\n",
       "      <th>Sex</th>\n",
       "      <th>F</th>\n",
       "      <th>M</th>\n",
       "      <th>Unknown</th>\n",
       "    </tr>\n",
       "    <tr>\n",
       "      <th>Fatal Y/N</th>\n",
       "      <th></th>\n",
       "      <th></th>\n",
       "      <th></th>\n",
       "    </tr>\n",
       "  </thead>\n",
       "  <tbody>\n",
       "    <tr>\n",
       "      <th>N</th>\n",
       "      <td>602</td>\n",
       "      <td>3916</td>\n",
       "      <td>362</td>\n",
       "    </tr>\n",
       "    <tr>\n",
       "      <th>Unknown</th>\n",
       "      <td>5</td>\n",
       "      <td>45</td>\n",
       "      <td>31</td>\n",
       "    </tr>\n",
       "    <tr>\n",
       "      <th>Y</th>\n",
       "      <td>120</td>\n",
       "      <td>1241</td>\n",
       "      <td>109</td>\n",
       "    </tr>\n",
       "  </tbody>\n",
       "</table>\n",
       "</div>"
      ],
      "text/plain": [
       "Sex          F     M  Unknown\n",
       "Fatal Y/N                    \n",
       "N          602  3916      362\n",
       "Unknown      5    45       31\n",
       "Y          120  1241      109"
      ]
     },
     "execution_count": 60,
     "metadata": {},
     "output_type": "execute_result"
    }
   ],
   "source": [
    "pd.crosstab(df_shark['Fatal Y/N'],df_shark['Sex'])"
   ]
  },
  {
   "cell_type": "code",
   "execution_count": 61,
   "id": "f1a34d2c-a832-407e-b07a-7b2bcf9c3176",
   "metadata": {},
   "outputs": [
    {
     "data": {
      "text/plain": [
       "0.16506189821182943"
      ]
     },
     "execution_count": 61,
     "metadata": {},
     "output_type": "execute_result"
    }
   ],
   "source": [
    "120/(120+5+602) #Proportion of attacks on females that are fatal"
   ]
  },
  {
   "cell_type": "code",
   "execution_count": 62,
   "id": "42fdacb2-86e6-413d-91d1-4e6477b60074",
   "metadata": {},
   "outputs": [
    {
     "data": {
      "text/plain": [
       "0.21713147410358566"
      ]
     },
     "execution_count": 62,
     "metadata": {},
     "output_type": "execute_result"
    }
   ],
   "source": [
    "109/(362+31+109) #Proportion of attacks on males that are fatal"
   ]
  },
  {
   "cell_type": "markdown",
   "id": "cb749ca8-a1f4-48e8-9958-e7b5f99d3f5f",
   "metadata": {},
   "source": [
    "Males are more prone to fatal attacks according to this data. Men are 5% more likely to die in a shark attack."
   ]
  },
  {
   "cell_type": "markdown",
   "id": "bfae4737-c3aa-4ed4-b5a3-ecdb014cd022",
   "metadata": {},
   "source": [
    "Personally, I think sharks are really fascinating but after working with this data, I find them to be a bit terrifying. Especially, since so many attacks are unprovoked and fatal!"
   ]
  },
  {
   "cell_type": "markdown",
   "id": "e09de1d6-b14c-4cfd-9894-b8f637dada91",
   "metadata": {},
   "source": [
    "#### Working with Shark Species"
   ]
  },
  {
   "cell_type": "code",
   "execution_count": 66,
   "id": "33d3e1aa-ea77-4a46-8992-12974f891927",
   "metadata": {},
   "outputs": [
    {
     "data": {
      "text/plain": [
       "Index(['Date', 'Year', 'Type', 'Country', 'State', 'Location', 'Activity',\n",
       "       'Name', 'Sex', 'Age', 'Injury', 'Fatal Y/N', 'Time', 'Species',\n",
       "       'Source', 'pdf', 'href formula', 'href', 'Case Number', 'Case Number.1',\n",
       "       'original order'],\n",
       "      dtype='object')"
      ]
     },
     "execution_count": 66,
     "metadata": {},
     "output_type": "execute_result"
    }
   ],
   "source": [
    "df_shark.columns\n",
    "df_shark.columns = df_shark.columns.str.strip() #Fixing column names because we could see that there were random spaces, this created problems calling the columns\n",
    "df_shark.columns"
   ]
  },
  {
   "cell_type": "code",
   "execution_count": 67,
   "id": "87b95ad9-6695-4dc4-9f50-169a66ad4bac",
   "metadata": {},
   "outputs": [
    {
     "data": {
      "text/plain": [
       "0.1066933638443936"
      ]
     },
     "execution_count": 67,
     "metadata": {},
     "output_type": "execute_result"
    }
   ],
   "source": [
    "df_shark['Species'].str.contains('White', case=False, na=False).sum()/len(df_shark) #Finding the total number of observations that includes the word white, and diving this by the total number of attacks"
   ]
  },
  {
   "cell_type": "markdown",
   "id": "349c505e-8c06-41da-8043-386a2b78b553",
   "metadata": {},
   "source": [
    "This is a really complicated column to clean. I'm unsure that I have the tools to fully clean it, but I found and located the number of times the word \"white\" was mentioned and divided by the total number of attacks. This should give us a good sense of how many attacks involved white sharks about 10.67%."
   ]
  },
  {
   "cell_type": "markdown",
   "id": "649494cd-cfd6-4f80-992a-9994fc19e1d5",
   "metadata": {
    "id": "649494cd-cfd6-4f80-992a-9994fc19e1d5"
   },
   "source": [
    "**Q4.** Many important datasets contain a race variable, typically limited to a handful of values often including Black, White, Asian, Latino, and Indigenous. This question looks at data gathering efforts on this variable by the U.S. Federal government.\n",
    "\n",
    "1. How did the most recent US Census gather data on race?\n",
    "2. Why do we gather these data? What role do these kinds of data play in politics and society? Why does data quality matter?\n",
    "3. Please provide a constructive criticism of how the Census was conducted: What was done well? What do you think was missing? How should future large scale surveys be adjusted to best reflect the diversity of the population? Could some of the Census' good practices be adopted more widely to gather richer and more useful data?\n",
    "4. How did the Census gather data on sex and gender? Please provide a similar constructive criticism of their practices.\n",
    "5. When it comes to cleaning data, what concerns do you have about protected characteristics like sex, gender, sexual identity, or race? What challenges can you imagine arising when there are missing values? What good or bad practices might people adopt, and why?\n",
    "6. Suppose someone invented an algorithm to impute values for protected characteristics like race, gender, sex, or sexuality. What kinds of concerns would you have?"
   ]
  },
  {
   "cell_type": "code",
   "execution_count": null,
   "id": "d2c477a1-a375-46c9-a6db-1eeae9701a03",
   "metadata": {},
   "outputs": [],
   "source": []
  }
 ],
 "metadata": {
  "colab": {
   "provenance": []
  },
  "kernelspec": {
   "display_name": "Python 3 (ipykernel)",
   "language": "python",
   "name": "python3"
  },
  "language_info": {
   "codemirror_mode": {
    "name": "ipython",
    "version": 3
   },
   "file_extension": ".py",
   "mimetype": "text/x-python",
   "name": "python",
   "nbconvert_exporter": "python",
   "pygments_lexer": "ipython3",
   "version": "3.12.4"
  }
 },
 "nbformat": 4,
 "nbformat_minor": 5
}
